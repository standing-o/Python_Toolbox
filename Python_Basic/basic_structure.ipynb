{
 "cells": [
  {
   "cell_type": "markdown",
   "metadata": {},
   "source": [
    "# 1. Basic Structure\n",
    "1. Print\n",
    "2. Variable (Integer, string)\n",
    "3. Function\n",
    "4. Method\n",
    "5. Formatting\n",
    "6. List and Tuple\n",
    "7. Dictionary\n",
    "8. Set\n",
    "9. Collection\n",
    "10. Lambda Function\n",
    "11. Copy"
   ]
  },
  {
   "cell_type": "markdown",
   "metadata": {},
   "source": [
    "## 1. Print"
   ]
  },
  {
   "cell_type": "code",
   "execution_count": 1,
   "metadata": {},
   "outputs": [
    {
     "name": "stdout",
     "output_type": "stream",
     "text": [
      "12\n",
      "1->2\n"
     ]
    }
   ],
   "source": [
    "a, b = 1, 2\n",
    "print(a, b, sep = \"\") # Separator\n",
    "print(a, b, sep = \"->\")"
   ]
  },
  {
   "cell_type": "code",
   "execution_count": 3,
   "metadata": {},
   "outputs": [
    {
     "name": "stdout",
     "output_type": "stream",
     "text": [
      "12\n"
     ]
    }
   ],
   "source": [
    "print(a, end = '') # add after printing\n",
    "print(b)  ## default : newline"
   ]
  },
  {
   "cell_type": "markdown",
   "metadata": {},
   "source": [
    "## 2. Variable\n",
    "- Keyword can not be identifier  \n",
    "if, else, elif, for, while, break, continue  \n",
    "True, False, None  \n",
    "and, or, not, in  \n",
    "def, return, lambda, nonlocal, global  \n",
    "try, except, finally, raise  \n",
    "import, from, class  \n",
    "is, del, with, as, yield, assert, pass"
   ]
  },
  {
   "cell_type": "markdown",
   "metadata": {},
   "source": [
    "### 2-1) Integer\n",
    "- 16 (hexadecimal) : 0x (0~9, a~f)\n",
    "- 8 (octal) : 0o (0~7)\n",
    "- 2 (binary) : 0b (0,1)    "
   ]
  },
  {
   "cell_type": "code",
   "execution_count": 4,
   "metadata": {},
   "outputs": [
    {
     "name": "stdout",
     "output_type": "stream",
     "text": [
      "0x14\n",
      "0o24\n",
      "0b10100\n"
     ]
    }
   ],
   "source": [
    "print(hex(20))\n",
    "print(oct(20))\n",
    "print(bin(20))"
   ]
  },
  {
   "cell_type": "markdown",
   "metadata": {},
   "source": [
    "### 2-2) String"
   ]
  },
  {
   "cell_type": "code",
   "execution_count": 9,
   "metadata": {},
   "outputs": [
    {
     "name": "stdout",
     "output_type": "stream",
     "text": [
      "Hello \"my\" world\n"
     ]
    }
   ],
   "source": [
    "# print(\"Hello \"my\" world\") # error\n",
    "print('Hello \"my\" world')"
   ]
  },
  {
   "cell_type": "code",
   "execution_count": 13,
   "metadata": {},
   "outputs": [
    {
     "name": "stdout",
     "output_type": "stream",
     "text": [
      "Hello\n",
      "World\n",
      "c:\\Desktop\\a.txt\n"
     ]
    }
   ],
   "source": [
    "# Escape Sequence\n",
    "print(\"Hello\\nWorld\")  ## \\n : newline\n",
    "print(r\"c:\\Desktop\\a.txt\")  ## raw"
   ]
  },
  {
   "cell_type": "code",
   "execution_count": 14,
   "metadata": {},
   "outputs": [
    {
     "name": "stdout",
     "output_type": "stream",
     "text": [
      "5040\n"
     ]
    }
   ],
   "source": [
    "answer = 1 * 2 * 3 * 4 * \\  \n",
    "              5 * 6 * 7\n",
    "print(answer)"
   ]
  },
  {
   "cell_type": "code",
   "execution_count": 18,
   "metadata": {},
   "outputs": [
    {
     "name": "stdout",
     "output_type": "stream",
     "text": [
      "97\n",
      "d\n"
     ]
    }
   ],
   "source": [
    "# code\n",
    "print(ord('a'))\n",
    "print(chr(100))"
   ]
  },
  {
   "cell_type": "code",
   "execution_count": 19,
   "metadata": {},
   "outputs": [
    {
     "name": "stdout",
     "output_type": "stream",
     "text": [
      "2.5\n",
      "2\n"
     ]
    }
   ],
   "source": [
    "print(5/2)\n",
    "print(5//2) # remove decimal part"
   ]
  },
  {
   "cell_type": "code",
   "execution_count": 22,
   "metadata": {},
   "outputs": [
    {
     "name": "stdout",
     "output_type": "stream",
     "text": [
      "Hello2002\n"
     ]
    }
   ],
   "source": [
    "# print(\"Hello\" + 2020) # error\n",
    "print(\"Hello\" + str(2002))"
   ]
  },
  {
   "cell_type": "code",
   "execution_count": 26,
   "metadata": {},
   "outputs": [
    {
     "name": "stdout",
     "output_type": "stream",
     "text": [
      "5\n",
      "6\n",
      "5.7\n",
      "123000\n"
     ]
    }
   ],
   "source": [
    "# round\n",
    "print(int(5.67))\n",
    "print(round(5.67))\n",
    "print(round(5.67, 1))\n",
    "print(round(123456, -3))"
   ]
  },
  {
   "cell_type": "markdown",
   "metadata": {},
   "source": [
    "## 3. Function"
   ]
  },
  {
   "cell_type": "code",
   "execution_count": null,
   "metadata": {},
   "outputs": [],
   "source": [
    "def calc():\n",
    "    pass\n",
    "'''\n",
    "# in C, Java\n",
    "void calc()\n",
    "{\n",
    "}\n",
    "'''"
   ]
  },
  {
   "cell_type": "markdown",
   "metadata": {},
   "source": [
    "## 4. Method\n",
    "- return BOOLEAN  \n",
    "isalpha, islower, isupper, isspace, isalnum, isdecimal, isdigit, isnumeric, isidentifier, isprintable"
   ]
  },
  {
   "cell_type": "code",
   "execution_count": 27,
   "metadata": {},
   "outputs": [
    {
     "name": "stdout",
     "output_type": "stream",
     "text": [
      "18\n",
      "4\n",
      "9\n",
      "8\n",
      "2\n"
     ]
    }
   ],
   "source": [
    "s = \"python programming\"\n",
    "print(len(s))\n",
    "print(s.find('o'))\n",
    "print(s.rfind('o'))  # rearfind\n",
    "print(s.index('r'))\n",
    "print(s.count('m'))"
   ]
  },
  {
   "cell_type": "markdown",
   "metadata": {},
   "source": [
    "## 5. Formatting\n",
    "%d : integer  \n",
    "%f : float  \n",
    "%s : string  \n",
    "%c : char  \n",
    "%h : hexadecimal  \n",
    "%o : octal  \n",
    "%% : %"
   ]
  },
  {
   "cell_type": "code",
   "execution_count": 29,
   "metadata": {},
   "outputs": [
    {
     "name": "stdout",
     "output_type": "stream",
     "text": [
      "###100###\n",
      "###  100###\n",
      "###       100###\n",
      "###100       ###\n",
      "###100###\n"
     ]
    }
   ],
   "source": [
    "# formatting and sort\n",
    "a = 100\n",
    "print(\"###%d###\" % a)\n",
    "print(\"###%5d###\" % a)\n",
    "print(\"###%10d###\" % a)\n",
    "print(\"###%-10d###\" % a)\n",
    "print(\"###%1d###\" % a)"
   ]
  },
  {
   "cell_type": "code",
   "execution_count": 30,
   "metadata": {},
   "outputs": [
    {
     "name": "stdout",
     "output_type": "stream",
     "text": [
      "  3.141593\n",
      "3.14159265\n",
      "   3.14159\n",
      "      3.14\n"
     ]
    }
   ],
   "source": [
    "pi = 3.14159265\n",
    "print(\"%10f\" % pi)\n",
    "print(\"%10.8f\" % pi)\n",
    "print(\"%10.5f\" % pi)\n",
    "print(\"%10.2f\" % pi)"
   ]
  },
  {
   "cell_type": "code",
   "execution_count": 32,
   "metadata": {},
   "outputs": [
    {
     "name": "stdout",
     "output_type": "stream",
     "text": [
      "a : 10, b : 20, c : 30\n",
      "a :     10    , b :    20, c : 30.66   \n"
     ]
    }
   ],
   "source": [
    "print(\"a : {0}, b : {1}, c : {2}\".format(10,20,30))\n",
    "print(\"a : {0:^10d}, b : {1:>5d}, c : {2:<8.2f}\".format(10,20,30.66))"
   ]
  },
  {
   "cell_type": "markdown",
   "metadata": {},
   "source": [
    "## 6. List and Tuple"
   ]
  },
  {
   "cell_type": "code",
   "execution_count": 34,
   "metadata": {},
   "outputs": [
    {
     "name": "stdout",
     "output_type": "stream",
     "text": [
      "[0, 4, 5, 6, 7]\n"
     ]
    }
   ],
   "source": [
    "# range remove\n",
    "num = [0,1,2,3,4,5,6,7]\n",
    "num[1:4] = []  # remove\n",
    "print(num)"
   ]
  },
  {
   "cell_type": "code",
   "execution_count": 38,
   "metadata": {},
   "outputs": [
    {
     "name": "stdout",
     "output_type": "stream",
     "text": [
      "[2, 4, 6, 8, 10, 12, 14, 16, 18, 20]\n"
     ]
    }
   ],
   "source": [
    "# list comprehension\n",
    "nums = [2*n for n in range(1,11)]\n",
    "print(nums)"
   ]
  },
  {
   "cell_type": "code",
   "execution_count": 39,
   "metadata": {},
   "outputs": [
    {
     "name": "stdout",
     "output_type": "stream",
     "text": [
      "[2, 4, 100, 6, 8, 10, 12, 14, 16, 18, 20, 22]\n"
     ]
    }
   ],
   "source": [
    "# insert\n",
    "nums.append(22)\n",
    "nums.insert(2, 100)  # (location, element) \n",
    "print(nums)"
   ]
  },
  {
   "cell_type": "code",
   "execution_count": 40,
   "metadata": {},
   "outputs": [
    {
     "name": "stdout",
     "output_type": "stream",
     "text": [
      "apple banana cat\n"
     ]
    }
   ],
   "source": [
    "# unpacking\n",
    "tu = \"apple\", \"banana\", \"cat\"\n",
    "a, b, c = tu\n",
    "print(a, b, c)"
   ]
  },
  {
   "cell_type": "markdown",
   "metadata": {},
   "source": [
    "## 7. Dictionary"
   ]
  },
  {
   "cell_type": "code",
   "execution_count": 41,
   "metadata": {},
   "outputs": [
    {
     "name": "stdout",
     "output_type": "stream",
     "text": [
      "10\n",
      "10\n",
      "dict_keys(['a', 'b', 'c'])\n",
      "dict_values([10, 20, 30])\n",
      "dict_items([('a', 10), ('b', 20), ('c', 30)])\n"
     ]
    }
   ],
   "source": [
    "dic = {'a' : 10, 'b' : 20, 'c' : 30}\n",
    "new_dic = {'d' : 40, 'e' : 50}\n",
    "\n",
    "print(dic['a'])  # print value\n",
    "print(dic.get('a'))\n",
    "\n",
    "print(dic.keys())\n",
    "print(dic.values())\n",
    "print(dic.items())"
   ]
  },
  {
   "cell_type": "code",
   "execution_count": 42,
   "metadata": {},
   "outputs": [
    {
     "name": "stdout",
     "output_type": "stream",
     "text": [
      "{'a': 10, 'b': 20, 'c': 30, 'd': 40, 'e': 50}\n"
     ]
    }
   ],
   "source": [
    "dic.update(new_dic)\n",
    "print(dic)  # merge"
   ]
  },
  {
   "cell_type": "markdown",
   "metadata": {},
   "source": [
    "## 8. Set"
   ]
  },
  {
   "cell_type": "code",
   "execution_count": 43,
   "metadata": {},
   "outputs": [
    {
     "name": "stdout",
     "output_type": "stream",
     "text": [
      "{12, 6}\n",
      "{2, 3, 4, 6, 8, 9, 10, 12, 15}\n",
      "{8, 2, 10, 4}\n",
      "{2, 3, 4, 8, 9, 10, 15}\n"
     ]
    }
   ],
   "source": [
    "a_set = {2, 4, 6, 8, 10, 12}\n",
    "b_set = {3, 6, 9, 12, 15}\n",
    "\n",
    "print(a_set & b_set)  # intersection\n",
    "print(a_set | b_set)  # union\n",
    "print(a_set - b_set)  # difference\n",
    "print(a_set ^ b_set)  # symmetric difference"
   ]
  },
  {
   "cell_type": "code",
   "execution_count": 44,
   "metadata": {},
   "outputs": [
    {
     "name": "stdout",
     "output_type": "stream",
     "text": [
      "False\n",
      "False\n"
     ]
    }
   ],
   "source": [
    "print(a_set <= b_set)  # issubset\n",
    "print(a_set >= b_set)  # issuperset\n",
    "# ( <, > : proper subset)"
   ]
  },
  {
   "cell_type": "markdown",
   "metadata": {},
   "source": [
    "## 9. Collection"
   ]
  },
  {
   "cell_type": "code",
   "execution_count": 51,
   "metadata": {},
   "outputs": [
    {
     "name": "stdout",
     "output_type": "stream",
     "text": [
      "[(0, 11), (1, 25), (2, 4), (3, 67), (4, 83)]\n",
      "2 11\n",
      "3 25\n",
      "4 4\n",
      "5 67\n",
      "6 83\n"
     ]
    }
   ],
   "source": [
    "# enumerate\n",
    "age = [11, 25, 4, 67, 83]\n",
    "print(list(enumerate(age)))\n",
    "for no, s in enumerate(age, 2):  # 2 : start setting\n",
    "    print(str(no), s)"
   ]
  },
  {
   "cell_type": "code",
   "execution_count": 54,
   "metadata": {},
   "outputs": [
    {
     "name": "stdout",
     "output_type": "stream",
     "text": [
      "a 1\n",
      "b 2\n",
      "c 3\n",
      "d 4\n",
      "e 5\n",
      "\n",
      "{'a': 1, 'b': 2, 'c': 3, 'd': 4, 'e': 5}\n"
     ]
    }
   ],
   "source": [
    "# zip\n",
    "alpha = [\"a\", \"b\", \"c\", \"d\", \"e\"]\n",
    "num = [1, 2, 3, 4, 5]\n",
    "list = zip(alpha, num)\n",
    "\n",
    "for p, q in list:\n",
    "    print(p,q)\n",
    "print()    \n",
    "print(dict(zip(alpha, num)))    "
   ]
  },
  {
   "cell_type": "code",
   "execution_count": 55,
   "metadata": {},
   "outputs": [
    {
     "name": "stdout",
     "output_type": "stream",
     "text": [
      "True\n",
      "False\n"
     ]
    }
   ],
   "source": [
    "# any, all\n",
    "boo = [True, False, True, False]\n",
    "print(any(boo))  # exist\n",
    "print(all(boo))  # all"
   ]
  },
  {
   "cell_type": "markdown",
   "metadata": {},
   "source": [
    "## 10. Lambda Function"
   ]
  },
  {
   "cell_type": "code",
   "execution_count": 56,
   "metadata": {},
   "outputs": [
    {
     "name": "stdout",
     "output_type": "stream",
     "text": [
      "40\n",
      "50\n"
     ]
    }
   ],
   "source": [
    "# filter : subject to conditions\n",
    "def flunk(s):\n",
    "    return s < 60\n",
    "\n",
    "score = [40, 50, 60, 70, 80]\n",
    "\n",
    "for s in filter(flunk, score):  # filter(flunk, score) = [40, 50] -> return list\n",
    "    print(s)"
   ]
  },
  {
   "cell_type": "code",
   "execution_count": 59,
   "metadata": {},
   "outputs": [
    {
     "name": "stdout",
     "output_type": "stream",
     "text": [
      "20.025.030.035.040.0"
     ]
    }
   ],
   "source": [
    "# map : for all element\n",
    "def half(s):\n",
    "    return s / 2\n",
    "\n",
    "for s in map(half, score):\n",
    "    print(s, end = '')"
   ]
  },
  {
   "cell_type": "code",
   "execution_count": 60,
   "metadata": {},
   "outputs": [
    {
     "data": {
      "text/plain": [
       "<function __main__.<lambda>(x)>"
      ]
     },
     "execution_count": 60,
     "metadata": {},
     "output_type": "execute_result"
    }
   ],
   "source": [
    "# lambda function : only input & output\n",
    "lambda x:x+1  # input : x, output : x+1"
   ]
  },
  {
   "cell_type": "code",
   "execution_count": 62,
   "metadata": {},
   "outputs": [
    {
     "name": "stdout",
     "output_type": "stream",
     "text": [
      "41\n",
      "51\n",
      "61\n",
      "71\n",
      "81\n"
     ]
    }
   ],
   "source": [
    "for s in map(lambda x:x+1, score):\n",
    "    print(s)"
   ]
  },
  {
   "cell_type": "markdown",
   "metadata": {},
   "source": [
    "## 11. Copy"
   ]
  },
  {
   "cell_type": "code",
   "execution_count": 65,
   "metadata": {},
   "outputs": [
    {
     "name": "stdout",
     "output_type": "stream",
     "text": [
      "[1, 2, 200]\n",
      "[1, 100, 3]\n"
     ]
    }
   ],
   "source": [
    "# separate storage\n",
    "list1 = [1,2,3]\n",
    "list2 = list1.copy()\n",
    "\n",
    "list2[1] = 100\n",
    "list1[2] = 200\n",
    "\n",
    "print(list1)\n",
    "print(list2)"
   ]
  },
  {
   "cell_type": "code",
   "execution_count": 67,
   "metadata": {},
   "outputs": [
    {
     "name": "stdout",
     "output_type": "stream",
     "text": [
      "[['a', 'c'], 1, 2]\n",
      "[['a', 'c'], 1, 2]\n"
     ]
    }
   ],
   "source": [
    "# sharing 'list0'\n",
    "list0 = ['a', 'b']\n",
    "list1 = [list0, 1, 2]\n",
    "list2 = list1.copy()\n",
    "\n",
    "list2[0][1] = 'c'\n",
    "print(list1)\n",
    "print(list2)"
   ]
  },
  {
   "cell_type": "code",
   "execution_count": 69,
   "metadata": {},
   "outputs": [
    {
     "name": "stdout",
     "output_type": "stream",
     "text": [
      "[['a', 'b'], 1, 2]\n",
      "[['a', 'c'], 1, 2]\n"
     ]
    }
   ],
   "source": [
    "# complete copy\n",
    "import copy\n",
    "list0 = ['a', 'b']\n",
    "list1 = [list0, 1, 2]\n",
    "list2 = copy.deepcopy(list1)\n",
    "\n",
    "list2[0][1] = 'c'\n",
    "print(list1)\n",
    "print(list2)"
   ]
  },
  {
   "cell_type": "code",
   "execution_count": 70,
   "metadata": {},
   "outputs": [
    {
     "name": "stdout",
     "output_type": "stream",
     "text": [
      "False\n"
     ]
    }
   ],
   "source": [
    "# is\n",
    "print(list0 is list1)"
   ]
  }
 ],
 "metadata": {
  "kernelspec": {
   "display_name": "Python 3",
   "language": "python",
   "name": "python3"
  },
  "language_info": {
   "codemirror_mode": {
    "name": "ipython",
    "version": 3
   },
   "file_extension": ".py",
   "mimetype": "text/x-python",
   "name": "python",
   "nbconvert_exporter": "python",
   "pygments_lexer": "ipython3",
   "version": "3.7.7"
  }
 },
 "nbformat": 4,
 "nbformat_minor": 4
}
