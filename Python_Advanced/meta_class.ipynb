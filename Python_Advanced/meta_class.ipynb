{
 "cells": [
  {
   "cell_type": "markdown",
   "id": "6a37c7d0",
   "metadata": {},
   "source": [
    "# Meta Class\n",
    "- Classes are responsible for creation, and metaclasses allow for customizing classes to fit specific intentions. \n",
    "- They are essential when building frameworks, as they enable dynamic creation (via type) and custom creation functions.\n",
    "\n",
    "- Custom classes, such as validation classes, can be created using metaclasses. \n",
    "- Framework classes, when declared with a metaclass, enforce strict usage requirements for classes, such as requiring method overrides."
   ]
  },
  {
   "cell_type": "markdown",
   "id": "2196e529",
   "metadata": {},
   "source": [
    "### Class of Class"
   ]
  },
  {
   "cell_type": "code",
   "execution_count": 17,
   "id": "d8c71b29",
   "metadata": {},
   "outputs": [],
   "source": [
    "class Sample_1:  # Class == Object\n",
    "    pass"
   ]
  },
  {
   "cell_type": "markdown",
   "id": "b340b4c2",
   "metadata": {},
   "source": [
    "- Can be assigned to variables, copied, have new attributes added, and passed as function arguments."
   ]
  },
  {
   "cell_type": "code",
   "execution_count": 18,
   "id": "fb5c45c6",
   "metadata": {},
   "outputs": [],
   "source": [
    "obj_1 = Sample_1()"
   ]
  },
  {
   "cell_type": "code",
   "execution_count": 19,
   "id": "0d244d8c",
   "metadata": {},
   "outputs": [
    {
     "name": "stdout",
     "output_type": "stream",
     "text": [
      "<class '__main__.Sample_1'>\n"
     ]
    }
   ],
   "source": [
    "print(obj_1.__class__)"
   ]
  },
  {
   "cell_type": "markdown",
   "id": "77087b57",
   "metadata": {},
   "source": [
    "- The prototype (meta) of all classes is type.\n",
    "  - Therefore, if we can adjust the type class, we can dynamically adjust classes."
   ]
  },
  {
   "cell_type": "markdown",
   "id": "f622b80b",
   "metadata": {},
   "source": [
    "```\n",
    "obj_1 : Sample_1 Instance\n",
    "Sample_1 : Type meta class\n",
    "type : Type meta class\n",
    "```"
   ]
  },
  {
   "cell_type": "code",
   "execution_count": 4,
   "id": "e61f829e",
   "metadata": {},
   "outputs": [
    {
     "name": "stdout",
     "output_type": "stream",
     "text": [
      "<class 'type'>\n"
     ]
    }
   ],
   "source": [
    "print(obj_1.__class__.__class__)"
   ]
  },
  {
   "cell_type": "code",
   "execution_count": 5,
   "id": "d6eac2eb",
   "metadata": {},
   "outputs": [
    {
     "name": "stdout",
     "output_type": "stream",
     "text": [
      "True\n"
     ]
    }
   ],
   "source": [
    "print(obj_1.__class__ is type(obj_1))"
   ]
  },
  {
   "cell_type": "code",
   "execution_count": 6,
   "id": "7c9bab48",
   "metadata": {},
   "outputs": [
    {
     "name": "stdout",
     "output_type": "stream",
     "text": [
      "True\n"
     ]
    }
   ],
   "source": [
    "print(obj_1.__class__.__class__ is type(obj_1).__class__)"
   ]
  },
  {
   "cell_type": "markdown",
   "id": "d6cab95a",
   "metadata": {},
   "source": [
    "- type is itself a metaclass."
   ]
  },
  {
   "cell_type": "code",
   "execution_count": 7,
   "id": "44f58107",
   "metadata": {},
   "outputs": [
    {
     "name": "stdout",
     "output_type": "stream",
     "text": [
      "<class 'type'>\n"
     ]
    }
   ],
   "source": [
    "print(type.__class__)"
   ]
  },
  {
   "cell_type": "code",
   "execution_count": 20,
   "id": "93b71df7",
   "metadata": {},
   "outputs": [
    {
     "name": "stdout",
     "output_type": "stream",
     "text": [
      "<class 'int'>\n",
      "<class 'type'>\n",
      "True\n",
      "<class 'dict'>\n",
      "<class 'type'>\n",
      "True\n",
      "<class '__main__.Sample_2'>\n",
      "<class 'type'>\n",
      "True\n"
     ]
    }
   ],
   "source": [
    "n = 10\n",
    "d = {\"a\": 10, \"b\": 20}\n",
    "\n",
    "class Sample_2:\n",
    "    pass\n",
    "\n",
    "obj_2 = Sample_2()\n",
    "\n",
    "for o in (n, d, obj_2):\n",
    "    print(type(o))\n",
    "    print(o.__class__.__class__)\n",
    "    print(type(o) is o.__class__)"
   ]
  },
  {
   "cell_type": "code",
   "execution_count": 21,
   "id": "1e1d26d6",
   "metadata": {},
   "outputs": [
    {
     "name": "stdout",
     "output_type": "stream",
     "text": [
      "<class 'type'>\n",
      "<class 'type'>\n",
      "<class 'type'>\n",
      "<class 'type'>\n"
     ]
    }
   ],
   "source": [
    "for t in int, float, list, tuple:\n",
    "    print(type(t))"
   ]
  },
  {
   "cell_type": "code",
   "execution_count": 22,
   "id": "53732735",
   "metadata": {},
   "outputs": [
    {
     "name": "stdout",
     "output_type": "stream",
     "text": [
      "<class 'type'>\n"
     ]
    }
   ],
   "source": [
    "print(type(type))"
   ]
  },
  {
   "cell_type": "markdown",
   "id": "a95b7ada",
   "metadata": {},
   "source": [
    "### Dynamic Metaclass\n",
    "- Dynamic creation of metaclasses is important. \n",
    "- A dynamically created metaclass allows for the creation of custom metaclasses, providing a significant advantage by enabling direct involvement in the class creation process according to specific intentions."
   ]
  },
  {
   "cell_type": "code",
   "execution_count": 23,
   "id": "f5def6ec",
   "metadata": {},
   "outputs": [
    {
     "name": "stdout",
     "output_type": "stream",
     "text": [
      "<class '__main__.Sample_3'>\n",
      "<class 'type'>\n",
      "<class 'object'>\n",
      "{'__module__': '__main__', '__dict__': <attribute '__dict__' of 'Sample_3' objects>, '__weakref__': <attribute '__weakref__' of 'Sample_3' objects>, '__doc__': None}\n"
     ]
    }
   ],
   "source": [
    "# Dynamic Creation\n",
    "obj_3 = type(\"Sample_3\", (), {})\n",
    "\n",
    "print(obj_3)\n",
    "print(type(obj_3))\n",
    "print(obj_3.__base__)\n",
    "print(obj_3.__dict__)"
   ]
  },
  {
   "cell_type": "code",
   "execution_count": 24,
   "id": "86e869f6",
   "metadata": {},
   "outputs": [
    {
     "name": "stdout",
     "output_type": "stream",
     "text": [
      "<class '__main__.Sample_4'>\n",
      "<class 'type'>\n",
      "<class '__main__.Parent_1'>\n",
      "{'attr1': 100, 'attr2': 'text', '__module__': '__main__', '__doc__': None}\n",
      "100 text\n"
     ]
    }
   ],
   "source": [
    "# Dynamic Creation and Inheritance\n",
    "\n",
    "class Parent_1:\n",
    "    pass\n",
    "\n",
    "obj_4 = type(\"Sample_4\", (Parent_1, ), dict(attr1=100, attr2=\"text\"))\n",
    "\n",
    "# class Sample_4(Parent_1):\n",
    "#     attr1 = 100\n",
    "#     attr2 = \"text\"\n",
    "\n",
    "print(obj_4)\n",
    "print(type(obj_4))\n",
    "print(obj_4.__base__)\n",
    "print(obj_4.__dict__)\n",
    "print(obj_4.attr1, obj_4.attr2)"
   ]
  },
  {
   "cell_type": "code",
   "execution_count": 25,
   "id": "34830216",
   "metadata": {},
   "outputs": [],
   "source": [
    "# Type dynamic class creation + method\n",
    "\n",
    "class Sample_5:\n",
    "    attr1 = 1\n",
    "    attr2 = 10\n",
    "    \n",
    "    def add(self, m, n):\n",
    "        return m + n\n",
    "    \n",
    "    def multiply(self, m, n):\n",
    "        return m * n\n",
    "    \n",
    "obj_5 = Sample_5()"
   ]
  },
  {
   "cell_type": "code",
   "execution_count": 27,
   "id": "b3a1d6ca",
   "metadata": {},
   "outputs": [
    {
     "name": "stdout",
     "output_type": "stream",
     "text": [
      "<__main__.Sample_5 object at 0x000002A4344165E0>\n",
      "10\n",
      "30\n",
      "100\n"
     ]
    }
   ],
   "source": [
    "print(obj_5)\n",
    "print(obj_5.attr2)\n",
    "print(obj_5.add(10, 20))\n",
    "print(obj_5.multiply(1, 100))"
   ]
  },
  {
   "cell_type": "code",
   "execution_count": 30,
   "id": "902c45f0",
   "metadata": {},
   "outputs": [],
   "source": [
    "obj_6 = type(\"Sample_6\", \n",
    "             (object, ), \n",
    "             dict(attr1=1, attr2 = 10, add = lambda x, y: x + y, multiply = lambda x, y: x * y)\n",
    "            )"
   ]
  },
  {
   "cell_type": "code",
   "execution_count": 31,
   "id": "0a4c49c0",
   "metadata": {},
   "outputs": [
    {
     "name": "stdout",
     "output_type": "stream",
     "text": [
      "<class '__main__.Sample_6'>\n",
      "1\n",
      "30\n",
      "100\n"
     ]
    }
   ],
   "source": [
    "print(obj_6)\n",
    "print(obj_6.attr1)\n",
    "print(obj_6.add(10, 20))\n",
    "print(obj_6.multiply(1, 100))"
   ]
  },
  {
   "cell_type": "markdown",
   "id": "a2c0c97c",
   "metadata": {},
   "source": [
    "### Type Inheritance\n",
    "- Inheriting from a metaclass means inheriting from the type class and using the metaclass attribute. \n",
    "- This allows for the creation of custom metaclasses."
   ]
  },
  {
   "cell_type": "markdown",
   "id": "adb60cab",
   "metadata": {},
   "source": [
    "- Custom metaclass"
   ]
  },
  {
   "cell_type": "code",
   "execution_count": 35,
   "id": "0fe81917",
   "metadata": {},
   "outputs": [],
   "source": [
    "def custom_multiply(self, d):\n",
    "    for i in range(len(self)):\n",
    "        self[i] = self[i] * d\n",
    "        \n",
    "def custom_replace(self, old, new):\n",
    "    while old in self:\n",
    "        self[self.index(old)] = new"
   ]
  },
  {
   "cell_type": "code",
   "execution_count": 36,
   "id": "f9546066",
   "metadata": {},
   "outputs": [],
   "source": [
    "Sample_7 = type(\"Sample_7\",\n",
    "             (list, ),\n",
    "             {\"desc\": \"list1\", \"custom_multiply\": custom_multiply, \"custom_replace\": custom_replace})"
   ]
  },
  {
   "cell_type": "code",
   "execution_count": 39,
   "id": "539c0265",
   "metadata": {},
   "outputs": [
    {
     "name": "stdout",
     "output_type": "stream",
     "text": [
      "['Hi', 2000, 3000, 4000, 5000, 6000, 7000, 8000, 9000]\n",
      "list1\n"
     ]
    }
   ],
   "source": [
    "obj_7 = Sample_7([1,2,3,4,5,6,7,8,9])\n",
    "obj_7.custom_multiply(1000)\n",
    "obj_7.custom_replace(1000, \"Hi\")\n",
    "\n",
    "print(obj_7)\n",
    "print(obj_7.desc)"
   ]
  },
  {
   "cell_type": "markdown",
   "id": "efe77d38",
   "metadata": {},
   "source": [
    "- Custom metaclass with type inheritance\n",
    "  - Class intercept"
   ]
  },
  {
   "cell_type": "code",
   "execution_count": 44,
   "id": "055caf90",
   "metadata": {},
   "outputs": [],
   "source": [
    "class Sample_8(type):\n",
    "    # Initialize generated instance\n",
    "    def __init__(self, object_or_name, bases, dict):\n",
    "        print(self, object_or_name, bases, dict)\n",
    "        super().__init__(object_or_name, bases, dict)\n",
    "    \n",
    "    # Execute instances\n",
    "    def __call__(self, *args, **kwargs):\n",
    "        print(self, *args, **kwargs)\n",
    "        return super().__call__(*args, **kwargs)\n",
    "    \n",
    "    # Generate class instance (Initialization of memory)\n",
    "    def __new__(meta_class, name, bases, namespace):\n",
    "        print(meta_class, name, bases, namespace)\n",
    "        namespace['desc'] = \"list2\"\n",
    "        namespace['custom_multiply'] = custom_multiply\n",
    "        namespace['custom_replace'] = custom_replace\n",
    "        \n",
    "        return type.__new__(meta_class, name, bases, namespace)"
   ]
  },
  {
   "cell_type": "code",
   "execution_count": 45,
   "id": "9cac51c0",
   "metadata": {},
   "outputs": [
    {
     "name": "stdout",
     "output_type": "stream",
     "text": [
      "<class '__main__.Sample_8'> list2-2 (<class 'list'>,) {}\n",
      "<class '__main__.list2-2'> list2-2 (<class 'list'>,) {'desc': 'list2', 'custom_multiply': <function custom_multiply at 0x000002A435921A60>, 'custom_replace': <function custom_replace at 0x000002A435E595E0>}\n",
      "<class '__main__.list2-2'> [1, 2, 3, 4, 5, 6, 7, 8, 9]\n",
      "[7777, 2000, 3000, 4000, 5000, 6000, 7000, 8000, 9000]\n",
      "list2\n"
     ]
    }
   ],
   "source": [
    "Sample_8_2 = Sample_8(\"list2-2\", (list, ), {})\n",
    "obj_8 = Sample_8_2([1,2,3,4,5,6,7,8,9])\n",
    "\n",
    "obj_8.custom_multiply(1000)\n",
    "obj_8.custom_replace(1000, 7777)\n",
    "\n",
    "print(obj_8)\n",
    "print(obj_8.desc)"
   ]
  }
 ],
 "metadata": {
  "kernelspec": {
   "display_name": "Python 3 (ipykernel)",
   "language": "python",
   "name": "python3"
  },
  "language_info": {
   "codemirror_mode": {
    "name": "ipython",
    "version": 3
   },
   "file_extension": ".py",
   "mimetype": "text/x-python",
   "name": "python",
   "nbconvert_exporter": "python",
   "pygments_lexer": "ipython3",
   "version": "3.9.13"
  }
 },
 "nbformat": 4,
 "nbformat_minor": 5
}
