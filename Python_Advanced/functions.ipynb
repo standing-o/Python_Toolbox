{
 "cells": [
  {
   "cell_type": "markdown",
   "id": "8e48eecb",
   "metadata": {},
   "source": [
    "# Functions\n",
    "- Anonymous.\n",
    "- They exist temporarily in the heap memory and are discarded immediately after use.\n",
    "- Lambda functions are often used in Pythonic code due to their concise syntax.\n",
    "- Unlike regular functions, lambda functions are not stored for reuse in memory.\n",
    "- Lambda functions are automatically garbage collected when their reference count drops to zero.\n",
    "  - Regular functions remain in memory to support reusability."
   ]
  },
  {
   "cell_type": "markdown",
   "id": "c478f9e7",
   "metadata": {},
   "source": [
    "### **Lambda**"
   ]
  },
  {
   "cell_type": "code",
   "execution_count": 1,
   "id": "b352540f",
   "metadata": {},
   "outputs": [
    {
     "name": "stdout",
     "output_type": "stream",
     "text": [
      "170\n"
     ]
    }
   ],
   "source": [
    "cul = lambda a, b, c: a * b + c\n",
    "print(cul(10, 15, 20))"
   ]
  },
  {
   "cell_type": "markdown",
   "id": "a218d7b5",
   "metadata": {},
   "source": [
    "### **Map**"
   ]
  },
  {
   "cell_type": "code",
   "execution_count": 2,
   "id": "033c4ae1",
   "metadata": {},
   "outputs": [
    {
     "name": "stdout",
     "output_type": "stream",
     "text": [
      "[10, 20, 30, 40, 50, 60, 70, 80, 90, 100]\n"
     ]
    }
   ],
   "source": [
    "digits_1 = [x * 10 for x in range(1, 11)]\n",
    "print(digits_1)"
   ]
  },
  {
   "cell_type": "code",
   "execution_count": 3,
   "id": "30960755",
   "metadata": {},
   "outputs": [
    {
     "name": "stdout",
     "output_type": "stream",
     "text": [
      "<map object at 0x0000013F77533E20>\n",
      "[100, 400, 900, 1600, 2500, 3600, 4900, 6400, 8100, 10000]\n"
     ]
    }
   ],
   "source": [
    "result = map(lambda i: i**2, digits_1)\n",
    "print(result)\n",
    "print(list(result))"
   ]
  },
  {
   "cell_type": "code",
   "execution_count": 4,
   "id": "61368dde",
   "metadata": {},
   "outputs": [
    {
     "name": "stdout",
     "output_type": "stream",
     "text": [
      "[100, 400, 900, 1600, 2500, 3600, 4900, 6400, 8100, 10000]\n"
     ]
    }
   ],
   "source": [
    "def function_square(nums):\n",
    "    def double(x):\n",
    "        return x ** 2\n",
    "    return map(double, nums)\n",
    "\n",
    "print(list(function_square(digits_1)))"
   ]
  },
  {
   "cell_type": "markdown",
   "id": "421f3d19",
   "metadata": {},
   "source": [
    "### Filter"
   ]
  },
  {
   "cell_type": "code",
   "execution_count": 5,
   "id": "ff7ee3fe",
   "metadata": {},
   "outputs": [
    {
     "name": "stdout",
     "output_type": "stream",
     "text": [
      "[0, 2, 4, 6, 8]\n"
     ]
    }
   ],
   "source": [
    "digits_2 = list(range(10))\n",
    "\n",
    "result = list(filter(lambda x: x%2 == 0, digits_2))\n",
    "print(result)"
   ]
  },
  {
   "cell_type": "code",
   "execution_count": 6,
   "id": "3ca282f9",
   "metadata": {},
   "outputs": [
    {
     "name": "stdout",
     "output_type": "stream",
     "text": [
      "[0, 2, 4, 6, 8]\n"
     ]
    }
   ],
   "source": [
    "def function_evens(nums):\n",
    "    def is_even(x):\n",
    "        return x % 2 == 0\n",
    "    return filter(is_even, nums)\n",
    "\n",
    "print(list(function_evens(digits_2)))"
   ]
  },
  {
   "cell_type": "markdown",
   "id": "d1123e36",
   "metadata": {},
   "source": [
    "### **Reduce**"
   ]
  },
  {
   "cell_type": "code",
   "execution_count": 7,
   "id": "239ca9e6",
   "metadata": {},
   "outputs": [
    {
     "name": "stdout",
     "output_type": "stream",
     "text": [
      "5050\n"
     ]
    }
   ],
   "source": [
    "from functools import reduce\n",
    "\n",
    "digits_3 = [x for x in range(1, 101)]\n",
    "result = reduce(lambda x, y: x + y, digits_3)\n",
    "print(result)"
   ]
  },
  {
   "cell_type": "code",
   "execution_count": 8,
   "id": "96add847",
   "metadata": {},
   "outputs": [
    {
     "name": "stdout",
     "output_type": "stream",
     "text": [
      "5050\n"
     ]
    }
   ],
   "source": [
    "def function_add(nums):\n",
    "    def add_(x, y):\n",
    "        return x + y\n",
    "    return reduce(add_, nums)\n",
    "\n",
    "print(function_add(digits_3))"
   ]
  }
 ],
 "metadata": {
  "kernelspec": {
   "display_name": "dacon",
   "language": "python",
   "name": "dacon"
  },
  "language_info": {
   "codemirror_mode": {
    "name": "ipython",
    "version": 3
   },
   "file_extension": ".py",
   "mimetype": "text/x-python",
   "name": "python",
   "nbconvert_exporter": "python",
   "pygments_lexer": "ipython3",
   "version": "3.8.17"
  }
 },
 "nbformat": 4,
 "nbformat_minor": 5
}
