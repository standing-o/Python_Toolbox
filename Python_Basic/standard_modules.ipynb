{
 "cells": [
  {
   "cell_type": "markdown",
   "metadata": {},
   "source": [
    "# 2. Standard Modules\n",
    "1. Random\n",
    "2. Time\n",
    "3. Calendar\n",
    "4. Math\n",
    "5. Statistics\n",
    "6. Sys"
   ]
  },
  {
   "cell_type": "markdown",
   "metadata": {},
   "source": [
    "## 1. Random"
   ]
  },
  {
   "cell_type": "code",
   "execution_count": 1,
   "metadata": {},
   "outputs": [],
   "source": [
    "import random"
   ]
  },
  {
   "cell_type": "code",
   "execution_count": 5,
   "metadata": {},
   "outputs": [
    {
     "name": "stdout",
     "output_type": "stream",
     "text": [
      "0.4305544219309847\n",
      "2\n",
      "11.191936923643922\n"
     ]
    }
   ],
   "source": [
    "print(random.random())\n",
    "print(random.randint(1,10))  # random number in 1~10 (including end)\n",
    "print(random.uniform(1,100))  # random number in real number"
   ]
  },
  {
   "cell_type": "code",
   "execution_count": 7,
   "metadata": {},
   "outputs": [
    {
     "name": "stdout",
     "output_type": "stream",
     "text": [
      "d\n",
      "['d', 'b', 'a']\n"
     ]
    }
   ],
   "source": [
    "alpha = [\"a\", \"b\", \"c\", \"d\", \"e\"]\n",
    "\n",
    "print(random.choice(alpha))\n",
    "print(random.sample(alpha,3))"
   ]
  },
  {
   "cell_type": "code",
   "execution_count": 8,
   "metadata": {},
   "outputs": [
    {
     "name": "stdout",
     "output_type": "stream",
     "text": [
      "['e', 'a', 'b', 'd', 'c']\n"
     ]
    }
   ],
   "source": [
    "random.shuffle(alpha)\n",
    "print(alpha)"
   ]
  },
  {
   "cell_type": "markdown",
   "metadata": {},
   "source": [
    "## 2. Time"
   ]
  },
  {
   "cell_type": "code",
   "execution_count": 9,
   "metadata": {},
   "outputs": [],
   "source": [
    "import time"
   ]
  },
  {
   "cell_type": "code",
   "execution_count": 10,
   "metadata": {},
   "outputs": [
    {
     "name": "stdout",
     "output_type": "stream",
     "text": [
      "1595951639.9061663\n"
     ]
    }
   ],
   "source": [
    "print(time.time())  # 1970 ~ 2020"
   ]
  },
  {
   "cell_type": "code",
   "execution_count": 19,
   "metadata": {},
   "outputs": [
    {
     "name": "stdout",
     "output_type": "stream",
     "text": [
      "Wed Jul 29 00:57:03 2020\n",
      "time.struct_time(tm_year=2020, tm_mon=7, tm_mday=29, tm_hour=0, tm_min=57, tm_sec=3, tm_wday=2, tm_yday=211, tm_isdst=0)\n",
      "2020\n",
      "0\n",
      "211\n"
     ]
    }
   ],
   "source": [
    "t = time.time()\n",
    "print(time.ctime(t))\n",
    "print(time.localtime(t))\n",
    "\n",
    "print(time.localtime(t).tm_year)\n",
    "print(time.localtime(t).tm_hour)\n",
    "print(time.localtime(t).tm_yday)"
   ]
  },
  {
   "cell_type": "code",
   "execution_count": 20,
   "metadata": {},
   "outputs": [],
   "source": [
    "import datetime"
   ]
  },
  {
   "cell_type": "code",
   "execution_count": 21,
   "metadata": {},
   "outputs": [
    {
     "name": "stdout",
     "output_type": "stream",
     "text": [
      "2020년 7월 29일 0:58:24\n"
     ]
    }
   ],
   "source": [
    "now = datetime.datetime.now()\n",
    "print(\"%d년 %d월 %d일 %d:%d:%d\" % (now.year, now.month, now.day, now.hour, now.minute, now.second))"
   ]
  },
  {
   "cell_type": "code",
   "execution_count": 26,
   "metadata": {},
   "outputs": [
    {
     "name": "stdout",
     "output_type": "stream",
     "text": [
      "Runtime : 0.0009970664978027344\n"
     ]
    }
   ],
   "source": [
    "# Run time\n",
    "start = time.time()\n",
    "\n",
    "list = []\n",
    "for a in range(10000):\n",
    "    list.append(a)\n",
    "end = time.time()\n",
    "\n",
    "print(\"Runtime :\", end - start)"
   ]
  },
  {
   "cell_type": "code",
   "execution_count": null,
   "metadata": {},
   "outputs": [],
   "source": [
    "time.sleep(5) # wait!"
   ]
  },
  {
   "cell_type": "markdown",
   "metadata": {},
   "source": [
    "## 3. Calendar"
   ]
  },
  {
   "cell_type": "code",
   "execution_count": 27,
   "metadata": {},
   "outputs": [],
   "source": [
    "import calendar"
   ]
  },
  {
   "cell_type": "code",
   "execution_count": 32,
   "metadata": {},
   "outputs": [
    {
     "name": "stdout",
     "output_type": "stream",
     "text": [
      "                                  2020\n",
      "\n",
      "      January                   February                   March\n",
      "Su Mo Tu We Th Fr Sa      Su Mo Tu We Th Fr Sa      Su Mo Tu We Th Fr Sa\n",
      "          1  2  3  4                         1       1  2  3  4  5  6  7\n",
      " 5  6  7  8  9 10 11       2  3  4  5  6  7  8       8  9 10 11 12 13 14\n",
      "12 13 14 15 16 17 18       9 10 11 12 13 14 15      15 16 17 18 19 20 21\n",
      "19 20 21 22 23 24 25      16 17 18 19 20 21 22      22 23 24 25 26 27 28\n",
      "26 27 28 29 30 31         23 24 25 26 27 28 29      29 30 31\n",
      "\n",
      "       April                      May                       June\n",
      "Su Mo Tu We Th Fr Sa      Su Mo Tu We Th Fr Sa      Su Mo Tu We Th Fr Sa\n",
      "          1  2  3  4                      1  2          1  2  3  4  5  6\n",
      " 5  6  7  8  9 10 11       3  4  5  6  7  8  9       7  8  9 10 11 12 13\n",
      "12 13 14 15 16 17 18      10 11 12 13 14 15 16      14 15 16 17 18 19 20\n",
      "19 20 21 22 23 24 25      17 18 19 20 21 22 23      21 22 23 24 25 26 27\n",
      "26 27 28 29 30            24 25 26 27 28 29 30      28 29 30\n",
      "                          31\n",
      "\n",
      "        July                     August                  September\n",
      "Su Mo Tu We Th Fr Sa      Su Mo Tu We Th Fr Sa      Su Mo Tu We Th Fr Sa\n",
      "          1  2  3  4                         1             1  2  3  4  5\n",
      " 5  6  7  8  9 10 11       2  3  4  5  6  7  8       6  7  8  9 10 11 12\n",
      "12 13 14 15 16 17 18       9 10 11 12 13 14 15      13 14 15 16 17 18 19\n",
      "19 20 21 22 23 24 25      16 17 18 19 20 21 22      20 21 22 23 24 25 26\n",
      "26 27 28 29 30 31         23 24 25 26 27 28 29      27 28 29 30\n",
      "                          30 31\n",
      "\n",
      "      October                   November                  December\n",
      "Su Mo Tu We Th Fr Sa      Su Mo Tu We Th Fr Sa      Su Mo Tu We Th Fr Sa\n",
      "             1  2  3       1  2  3  4  5  6  7             1  2  3  4  5\n",
      " 4  5  6  7  8  9 10       8  9 10 11 12 13 14       6  7  8  9 10 11 12\n",
      "11 12 13 14 15 16 17      15 16 17 18 19 20 21      13 14 15 16 17 18 19\n",
      "18 19 20 21 22 23 24      22 23 24 25 26 27 28      20 21 22 23 24 25 26\n",
      "25 26 27 28 29 30 31      29 30                     27 28 29 30 31\n",
      "\n"
     ]
    }
   ],
   "source": [
    "print(calendar.calendar(2020))"
   ]
  },
  {
   "cell_type": "code",
   "execution_count": 34,
   "metadata": {},
   "outputs": [
    {
     "name": "stdout",
     "output_type": "stream",
     "text": [
      "Today is Wednesday\n"
     ]
    }
   ],
   "source": [
    "ans = [\"Monday\", \"Tuesday\",\"Wednesday\", \"Thursday\", \"Friday\", \"Saturday\", \"Sunday\"]\n",
    "day = calendar.weekday(2020,7,29)\n",
    "print(\"Today is\", ans[day])"
   ]
  },
  {
   "cell_type": "markdown",
   "metadata": {},
   "source": [
    "## 4. Math"
   ]
  },
  {
   "cell_type": "code",
   "execution_count": 35,
   "metadata": {},
   "outputs": [],
   "source": [
    "import math"
   ]
  },
  {
   "cell_type": "code",
   "execution_count": 37,
   "metadata": {},
   "outputs": [
    {
     "name": "stdout",
     "output_type": "stream",
     "text": [
      "3.141592653589793\n",
      "6.283185307179586\n",
      "2.718281828459045\n",
      "inf\n",
      "nan\n"
     ]
    }
   ],
   "source": [
    "# Math module constants\n",
    "print(math.pi)\n",
    "print(math.tau)  # 2*pi\n",
    "print(math.e)  # Euler's number\n",
    "print(math.inf)\n",
    "print(math.nan)"
   ]
  },
  {
   "cell_type": "code",
   "execution_count": 45,
   "metadata": {},
   "outputs": [
    {
     "name": "stdout",
     "output_type": "stream",
     "text": [
      "4.0 16.0\n",
      "5.0\n",
      "24\n"
     ]
    }
   ],
   "source": [
    "print(math.sqrt(16), math.pow(4,2))\n",
    "print(math.hypot(3,4))  # Pythagorean theorem\n",
    "print(math.factorial(4))"
   ]
  },
  {
   "cell_type": "code",
   "execution_count": 46,
   "metadata": {},
   "outputs": [
    {
     "name": "stdout",
     "output_type": "stream",
     "text": [
      "0.479425538604203 0.8775825618903728 0.5463024898437905\n",
      "1.5707963267948966 0.0 0.7853981633974483\n",
      "1.1752011936438014 1.5430806348152437 0.7615941559557649\n",
      "180.0\n",
      "3.141592653589793\n"
     ]
    }
   ],
   "source": [
    "print(math.sin(0.5), math.cos(0.5), math.tan(0.5))\n",
    "print(math.asin(1), math.acos(1), math.atan(1))\n",
    "print(math.sinh(1), math.cosh(1), math.tanh(1))\n",
    "print(math.degrees(math.pi))  # radian -> degree\n",
    "print(math.radians(180))  # degree -> radian"
   ]
  },
  {
   "cell_type": "code",
   "execution_count": 47,
   "metadata": {},
   "outputs": [
    {
     "name": "stdout",
     "output_type": "stream",
     "text": [
      "4 3 3\n",
      "1.5\n",
      "4.0 0.6989700043360189\n",
      "1\n"
     ]
    }
   ],
   "source": [
    "print(math.ceil(3.6), math.floor(3.6), math.trunc(3.6))\n",
    "print(math.fabs(-1.5))  # absolute value\n",
    "print(math.log(16, 2), math.log10(5))\n",
    "print(math.gcd(3,5))"
   ]
  },
  {
   "cell_type": "markdown",
   "metadata": {},
   "source": [
    "## 5. Statistics"
   ]
  },
  {
   "cell_type": "code",
   "execution_count": 55,
   "metadata": {},
   "outputs": [],
   "source": [
    "import statistics"
   ]
  },
  {
   "cell_type": "code",
   "execution_count": 56,
   "metadata": {},
   "outputs": [
    {
     "name": "stdout",
     "output_type": "stream",
     "text": [
      "53.75\n",
      "43.41085271317829\n"
     ]
    }
   ],
   "source": [
    "data = [20, 30, 40, 50, 60, 70, 80, 80]\n",
    "\n",
    "print(statistics.mean(data))\n",
    "print(statistics.harmonic_mean(data))"
   ]
  },
  {
   "cell_type": "code",
   "execution_count": 57,
   "metadata": {},
   "outputs": [
    {
     "name": "stdout",
     "output_type": "stream",
     "text": [
      "55.0\n",
      "50\n",
      "60\n"
     ]
    }
   ],
   "source": [
    "print(statistics.median(data))\n",
    "print(statistics.median_low(data))\n",
    "print(statistics.median_high(data))"
   ]
  },
  {
   "cell_type": "code",
   "execution_count": 58,
   "metadata": {},
   "outputs": [
    {
     "name": "stdout",
     "output_type": "stream",
     "text": [
      "80\n",
      "22.638462845343543\n",
      "512.5\n"
     ]
    }
   ],
   "source": [
    "print(statistics.mode(data))\n",
    "print(statistics.stdev(data))  # Standard Deviation\n",
    "print(statistics.variance(data))"
   ]
  },
  {
   "cell_type": "markdown",
   "metadata": {},
   "source": [
    "## 6. Sys"
   ]
  },
  {
   "cell_type": "code",
   "execution_count": 59,
   "metadata": {},
   "outputs": [],
   "source": [
    "import sys"
   ]
  },
  {
   "cell_type": "code",
   "execution_count": 61,
   "metadata": {},
   "outputs": [
    {
     "name": "stdout",
     "output_type": "stream",
     "text": [
      "1. Version : 3.7.7 (default, May  6 2020, 11:45:54) [MSC v.1916 64 bit (AMD64)]\n",
      "2. Platform : win32\n",
      "3. Window Version : sys.getwindowsversion(major=10, minor=0, build=18362, platform=2, service_pack='')\n",
      "4. Byte order : little\n",
      "5. Path : ['C:\\\\Users\\\\eilee\\\\Desktop\\\\Python', 'C:\\\\ProgramData\\\\Anaconda3\\\\python37.zip', 'C:\\\\ProgramData\\\\Anaconda3\\\\DLLs', 'C:\\\\ProgramData\\\\Anaconda3\\\\lib', 'C:\\\\ProgramData\\\\Anaconda3', '', 'C:\\\\Users\\\\eilee\\\\AppData\\\\Roaming\\\\Python\\\\Python37\\\\site-packages', 'C:\\\\ProgramData\\\\Anaconda3\\\\lib\\\\site-packages', 'C:\\\\ProgramData\\\\Anaconda3\\\\lib\\\\site-packages\\\\win32', 'C:\\\\ProgramData\\\\Anaconda3\\\\lib\\\\site-packages\\\\win32\\\\lib', 'C:\\\\ProgramData\\\\Anaconda3\\\\lib\\\\site-packages\\\\Pythonwin', 'C:\\\\ProgramData\\\\Anaconda3\\\\lib\\\\site-packages\\\\IPython\\\\extensions', 'C:\\\\Users\\\\eilee\\\\.ipython']\n"
     ]
    }
   ],
   "source": [
    "# system information\n",
    "\n",
    "print(\"1. Version :\", sys.version)\n",
    "print(\"2. Platform :\", sys.platform)\n",
    "print(\"3. Window Version :\", sys.getwindowsversion())\n",
    "print(\"4. Byte order :\", sys.byteorder)\n",
    "print(\"5. Path :\", sys.path)"
   ]
  },
  {
   "cell_type": "code",
   "execution_count": 62,
   "metadata": {},
   "outputs": [
    {
     "name": "stdout",
     "output_type": "stream",
     "text": [
      "['C:\\\\ProgramData\\\\Anaconda3\\\\lib\\\\site-packages\\\\ipykernel_launcher.py', '-f', 'C:\\\\Users\\\\eilee\\\\AppData\\\\Roaming\\\\jupyter\\\\runtime\\\\kernel-54222200-078a-4522-b5d9-ea5064a2a6d1.json']\n"
     ]
    }
   ],
   "source": [
    "print(sys.argv)"
   ]
  }
 ],
 "metadata": {
  "kernelspec": {
   "display_name": "Python 3",
   "language": "python",
   "name": "python3"
  },
  "language_info": {
   "codemirror_mode": {
    "name": "ipython",
    "version": 3
   },
   "file_extension": ".py",
   "mimetype": "text/x-python",
   "name": "python",
   "nbconvert_exporter": "python",
   "pygments_lexer": "ipython3",
   "version": "3.7.7"
  }
 },
 "nbformat": 4,
 "nbformat_minor": 4
}
