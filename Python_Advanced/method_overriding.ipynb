{
 "cells": [
  {
   "cell_type": "markdown",
   "id": "eb551824",
   "metadata": {},
   "source": [
    "# Method Overriding\n",
    "- Method overriding in Python allows a `subclass` to redefine a method inherited from its `superclass`, providing an updated or customized implementation. \n",
    "- This enables subclasses to call the superclass’s method directly before adding or modifying its behavior. \n",
    "- By using structural approaches, such as abstracting methods in the parent class, overriding offers organized and extensible functionality. \n",
    "- This practice supports polymorphism, as overridden methods can operate in varied ways based on the context of the subclass. \n",
    "- Method overriding also improves readability and reduces errors by conserving method names, ultimately enhancing maintainability of the code."
   ]
  },
  {
   "cell_type": "code",
   "execution_count": 1,
   "id": "e140b667",
   "metadata": {},
   "outputs": [],
   "source": [
    "class Parent_1():\n",
    "    def __init__(self):\n",
    "        self.value = 5\n",
    "\n",
    "    def get_value(self):\n",
    "        return self.value\n",
    "\n",
    "class Child_1(ParentEx1):\n",
    "    pass"
   ]
  },
  {
   "cell_type": "code",
   "execution_count": 2,
   "id": "00acf8cd",
   "metadata": {},
   "outputs": [],
   "source": [
    "c1 = Child_1()\n",
    "p1 = Parent_1()"
   ]
  },
  {
   "cell_type": "code",
   "execution_count": 4,
   "id": "8abb0a42",
   "metadata": {},
   "outputs": [
    {
     "name": "stdout",
     "output_type": "stream",
     "text": [
      "5\n",
      "['__class__', '__delattr__', '__dict__', '__dir__', '__doc__', '__eq__', '__format__', '__ge__', '__getattribute__', '__gt__', '__hash__', '__init__', '__init_subclass__', '__le__', '__lt__', '__module__', '__ne__', '__new__', '__reduce__', '__reduce_ex__', '__repr__', '__setattr__', '__sizeof__', '__str__', '__subclasshook__', '__weakref__', 'get_value', 'value']\n",
      "<class '__main__.ParentEx1'>\n",
      "<class '__main__.ChildEx1'>\n"
     ]
    }
   ],
   "source": [
    "print(c1.get_value())\n",
    "print(dir(c1))\n",
    "\n",
    "print(Parent_1)\n",
    "print(Child_1)"
   ]
  },
  {
   "cell_type": "code",
   "execution_count": 5,
   "id": "ad7a1449",
   "metadata": {},
   "outputs": [
    {
     "name": "stdout",
     "output_type": "stream",
     "text": [
      "{'__module__': '__main__', '__init__': <function ParentEx1.__init__ at 0x0000014050E20310>, 'get_value': <function ParentEx1.get_value at 0x0000014050E20160>, '__dict__': <attribute '__dict__' of 'ParentEx1' objects>, '__weakref__': <attribute '__weakref__' of 'ParentEx1' objects>, '__doc__': None}\n",
      "{'__module__': '__main__', '__doc__': None}\n"
     ]
    }
   ],
   "source": [
    "# Namespace\n",
    "print(Parent_1.__dict__)\n",
    "print(Child_1.__dict__)"
   ]
  },
  {
   "cell_type": "markdown",
   "id": "5b985b8e",
   "metadata": {},
   "source": [
    "- Re-definition"
   ]
  },
  {
   "cell_type": "code",
   "execution_count": 7,
   "id": "8b46c433",
   "metadata": {},
   "outputs": [],
   "source": [
    "class Parent_2():\n",
    "    def __init__(self):\n",
    "        self.value = 5\n",
    "\n",
    "    def get_value(self):\n",
    "        return self.value\n",
    "\n",
    "class Child_2(ParentEx1):\n",
    "    def get_value(self):\n",
    "        return self.value * 10"
   ]
  },
  {
   "cell_type": "code",
   "execution_count": 8,
   "id": "cf4aacc7",
   "metadata": {},
   "outputs": [
    {
     "name": "stdout",
     "output_type": "stream",
     "text": [
      "50\n"
     ]
    }
   ],
   "source": [
    "c2 = Child_2()\n",
    "\n",
    "print(c2.get_value())"
   ]
  },
  {
   "cell_type": "code",
   "execution_count": 9,
   "id": "931e18cf",
   "metadata": {},
   "outputs": [],
   "source": [
    "import datetime\n",
    "\n",
    "class Logger(object):\n",
    "    def log(self, msg):\n",
    "        print(msg)\n",
    "\n",
    "class TimestampLogger(Logger):\n",
    "    def log(self, msg):\n",
    "        message = \"{ts} {msg}\".format(ts=datetime.datetime.now(),\n",
    "                                      msg=msg)\n",
    "        # super().log(message)\n",
    "        super(TimestampLogger, self).log(message)\n",
    "\n",
    "class DateLogger(Logger):\n",
    "    def log(self, msg):\n",
    "        message = \"{ts} {msg}\".format(ts=datetime.datetime.now().strftime('%Y-%m-%d'),\n",
    "                                      msg=msg)\n",
    "        # super().log(message)\n",
    "        super(DateLogger, self).log(message)\n",
    "\n",
    "l = Logger()\n",
    "t = TimestampLogger()\n",
    "d = DateLogger()"
   ]
  },
  {
   "cell_type": "code",
   "execution_count": 10,
   "id": "fa9b6877",
   "metadata": {},
   "outputs": [
    {
     "name": "stdout",
     "output_type": "stream",
     "text": [
      "Called logger.\n",
      "None\n",
      "2024-11-04 21:27:50.344563 Called timestamp logger.\n",
      "None\n",
      "2024-11-04 Called date logger.\n",
      "None\n"
     ]
    }
   ],
   "source": [
    "print(l.log('Called logger.'))\n",
    "print(t.log('Called timestamp logger.'))\n",
    "print(d.log('Called date logger.'))"
   ]
  }
 ],
 "metadata": {
  "kernelspec": {
   "display_name": "Python 3 (ipykernel)",
   "language": "python",
   "name": "python3"
  },
  "language_info": {
   "codemirror_mode": {
    "name": "ipython",
    "version": 3
   },
   "file_extension": ".py",
   "mimetype": "text/x-python",
   "name": "python",
   "nbconvert_exporter": "python",
   "pygments_lexer": "ipython3",
   "version": "3.9.13"
  }
 },
 "nbformat": 4,
 "nbformat_minor": 5
}
