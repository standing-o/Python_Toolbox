{
 "cells": [
  {
   "cell_type": "markdown",
   "id": "e64b55e7",
   "metadata": {},
   "source": [
    "# Context Manager\n",
    "- A context manager in Python is responsible for allocating and releasing resources precisely at the desired time. \n",
    "- It ensures that resources are set up when needed and then automatically cleaned up or released after use, even if an error occurs. "
   ]
  },
  {
   "cell_type": "markdown",
   "id": "a692b56f",
   "metadata": {},
   "source": [
    "### With"
   ]
  },
  {
   "cell_type": "code",
   "execution_count": 1,
   "id": "db7c13d3",
   "metadata": {},
   "outputs": [],
   "source": [
    "file = open(\"./file1.txt\", 'w')\n",
    "try:\n",
    "    file.write(\"Test1.\")\n",
    "finally:\n",
    "    file.close()"
   ]
  },
  {
   "cell_type": "code",
   "execution_count": 2,
   "id": "e24a4cc9",
   "metadata": {},
   "outputs": [
    {
     "name": "stdout",
     "output_type": "stream",
     "text": [
      "['.gitignore', '.ipynb_checkpoints', 'context_manager.ipynb', 'copy.ipynb', 'file1.txt', 'functions.ipynb', 'method_overloading.ipynb', 'method_overriding.ipynb', 'property.ipynb', 'scope.ipynb']\n"
     ]
    }
   ],
   "source": [
    "import os\n",
    "print(os.listdir())"
   ]
  },
  {
   "cell_type": "code",
   "execution_count": 3,
   "id": "78c2dbf4",
   "metadata": {},
   "outputs": [],
   "source": [
    "with open(\"./file2.txt\", 'w') as f:\n",
    "    f.write(\"Test2.\")"
   ]
  },
  {
   "cell_type": "code",
   "execution_count": 4,
   "id": "cdb58b1e",
   "metadata": {},
   "outputs": [
    {
     "name": "stdout",
     "output_type": "stream",
     "text": [
      "['.gitignore', '.ipynb_checkpoints', 'context_manager.ipynb', 'copy.ipynb', 'file1.txt', 'file2.txt', 'functions.ipynb', 'method_overloading.ipynb', 'method_overriding.ipynb', 'property.ipynb', 'scope.ipynb']\n"
     ]
    }
   ],
   "source": [
    "print(os.listdir())"
   ]
  },
  {
   "cell_type": "markdown",
   "id": "b0686c64",
   "metadata": {},
   "source": [
    "### `__enter__`, `__exit__`"
   ]
  },
  {
   "cell_type": "code",
   "execution_count": 7,
   "id": "54c83489",
   "metadata": {},
   "outputs": [],
   "source": [
    "# Context manager with exception handling\n",
    "\n",
    "class FileWriter():\n",
    "    def __init__(self, file_name, method):\n",
    "        print(\"FileWriter started : __init__\")\n",
    "        self.file_obj = open(file_name, method)\n",
    "        \n",
    "    def __enter__(self):\n",
    "        print(\"FileWriter started : __enter__\")\n",
    "        return self.file_obj\n",
    "    \n",
    "    def __exit__(self, exc_type, value, trace_back):\n",
    "        print(\"FileWriter started : __exit__\")\n",
    "        if exc_type:\n",
    "            print(\"Logging exxception {}\".format((exc_type, value, trace_back)))\n",
    "        self.file_obj.close()"
   ]
  },
  {
   "cell_type": "code",
   "execution_count": 8,
   "id": "fd6930fc",
   "metadata": {},
   "outputs": [
    {
     "name": "stdout",
     "output_type": "stream",
     "text": [
      "FileWriter started : __init__\n",
      "FileWriter started : __enter__\n",
      "FileWriter started : __exit__\n"
     ]
    }
   ],
   "source": [
    "# with -> init -> enter -> exit\n",
    "with FileWriter('./file3.txt', 'w') as f:\n",
    "    f.write(\"Test3.\")"
   ]
  },
  {
   "cell_type": "code",
   "execution_count": 10,
   "id": "adc6698b",
   "metadata": {},
   "outputs": [],
   "source": [
    "# Contextlib: Measure execution\n",
    "\n",
    "import time\n",
    "\n",
    "class ExecuteTimer(object):\n",
    "    def __init__(self, msg):\n",
    "        self._msg = msg\n",
    "        \n",
    "    def __enter__(self):\n",
    "        self._start = time.monotonic()\n",
    "        return self._start\n",
    "    \n",
    "    # exit from `with`\n",
    "    def __exit__(self, exc_type, exc_value, exc_traceback):\n",
    "        if exc_type:\n",
    "            print(\"Logging exception {}\".format((exc_type, exc_value, exc_traceback)))\n",
    "        else:\n",
    "            print(\"{} : {} s\".format(self._msg, time.monotonic() - self._start))\n",
    "        return True"
   ]
  },
  {
   "cell_type": "markdown",
   "id": "321699cf",
   "metadata": {},
   "source": [
    "- v: returned value of the `__enter__`"
   ]
  },
  {
   "cell_type": "code",
   "execution_count": 11,
   "id": "4473e2e5",
   "metadata": {},
   "outputs": [
    {
     "name": "stdout",
     "output_type": "stream",
     "text": [
      "Received start monotonic1 : 1653231.328\n",
      "Start... : 0.01500000013038516 s\n"
     ]
    }
   ],
   "source": [
    "with ExecuteTimer(\"Start...\") as v:\n",
    "    print(\"Received start monotonic1 : {}\".format(v))\n",
    "    # Execute job\n",
    "    for i in range(1000000):\n",
    "        pass"
   ]
  },
  {
   "cell_type": "code",
   "execution_count": 12,
   "id": "b4523c13",
   "metadata": {},
   "outputs": [
    {
     "name": "stdout",
     "output_type": "stream",
     "text": [
      "Received start monotonic1 : 1653243.078\n",
      "Logging exception (<class 'Exception'>, Exception('Raise...'), <traceback object at 0x0000016057945940>)\n"
     ]
    }
   ],
   "source": [
    "with ExecuteTimer(\"Start...\") as v:\n",
    "    print(\"Received start monotonic1 : {}\".format(v))\n",
    "    # Execute job\n",
    "    for i in range(1000000):\n",
    "        pass\n",
    "    raise Exception(\"Raise...\")"
   ]
  },
  {
   "cell_type": "markdown",
   "id": "c70f91ee",
   "metadata": {},
   "source": [
    "### `__enter__`, `__exit__`, `@contextlib.contextmanager`"
   ]
  },
  {
   "cell_type": "code",
   "execution_count": 13,
   "id": "76c9e1be",
   "metadata": {},
   "outputs": [],
   "source": [
    "import contextlib\n",
    "import time\n",
    "\n",
    "# Same with `ExecuteTimer` class\n",
    "@contextlib.contextmanager\n",
    "def file_writer(file_name, method):\n",
    "    f = open(file_name, method)\n",
    "    yield f  # __enter__\n",
    "    f.close()  # __exit__\n",
    "    \n",
    "with file_writer(\"file4.txt\", 'w') as f:\n",
    "    f.write(\"Test4\")"
   ]
  },
  {
   "cell_type": "code",
   "execution_count": 14,
   "id": "5f69f2a6",
   "metadata": {},
   "outputs": [
    {
     "name": "stdout",
     "output_type": "stream",
     "text": [
      "['.gitignore', '.ipynb_checkpoints', 'context_manager.ipynb', 'copy.ipynb', 'file1.txt', 'file2.txt', 'file3.txt', 'file4.txt', 'functions.ipynb', 'method_overloading.ipynb', 'method_overriding.ipynb', 'property.ipynb', 'scope.ipynb']\n"
     ]
    }
   ],
   "source": [
    "print(os.listdir())"
   ]
  },
  {
   "cell_type": "code",
   "execution_count": 15,
   "id": "31b8486e",
   "metadata": {},
   "outputs": [
    {
     "name": "stdout",
     "output_type": "stream",
     "text": [
      "Received start monotonic2 : 1653286.031\n",
      "Start... : 0.0s\n"
     ]
    }
   ],
   "source": [
    "# User decorator\n",
    "\n",
    "@contextlib.contextmanager\n",
    "def ExecuteTimer_2(msg):\n",
    "    start = time.monotonic()\n",
    "    try:  # __enter__\n",
    "        yield start\n",
    "    except BaseException as e:\n",
    "        print(\"Logging exception: {}: {}\".format(msg, e))\n",
    "        raise\n",
    "    else:  # __exit__\n",
    "        print(\"{} : {}s\".format(msg, time.monotonic() - start))\n",
    "        \n",
    "\n",
    "with ExecuteTimer_2(\"Start...\") as v:\n",
    "    print(\"Received start monotonic2 : {}\".format(v))\n",
    "    for i in range(100):\n",
    "        pass\n",
    "#     raise ValueError(\"raise...\")"
   ]
  }
 ],
 "metadata": {
  "kernelspec": {
   "display_name": "Python 3 (ipykernel)",
   "language": "python",
   "name": "python3"
  },
  "language_info": {
   "codemirror_mode": {
    "name": "ipython",
    "version": 3
   },
   "file_extension": ".py",
   "mimetype": "text/x-python",
   "name": "python",
   "nbconvert_exporter": "python",
   "pygments_lexer": "ipython3",
   "version": "3.9.13"
  }
 },
 "nbformat": 4,
 "nbformat_minor": 5
}
