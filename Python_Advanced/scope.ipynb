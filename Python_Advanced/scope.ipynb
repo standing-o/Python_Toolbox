{
 "cells": [
  {
   "cell_type": "markdown",
   "id": "3f944790",
   "metadata": {},
   "source": [
    "# Scope\n",
    "### 1. Local Variable & Global Variable\n",
    "- **`Global variables`** are primarily used for constants or **fixed values** that do not change. \n",
    "    - Modifying global variables within local scopes is generally discouraged.\n",
    "- **`Local variables`** are limited to resolving logic within functions, with a lifecycle that ends when the function completes execution. "
   ]
  },
  {
   "cell_type": "markdown",
   "id": "9f1cdd36",
   "metadata": {},
   "source": [
    "```\n",
    "UnboundLocalError: local variable 'c' referenced before assignment\n",
    "```"
   ]
  },
  {
   "cell_type": "code",
   "execution_count": 9,
   "id": "c9806b50",
   "metadata": {},
   "outputs": [],
   "source": [
    "c = 40\n",
    "\n",
    "def foobar():\n",
    "    c = c + 10\n",
    "    print(c)\n",
    "    \n",
    "foobar()   "
   ]
  },
  {
   "cell_type": "markdown",
   "id": "91c0c2eb",
   "metadata": {},
   "source": [
    "- Avoid using global variables. However, it works."
   ]
  },
  {
   "cell_type": "code",
   "execution_count": 1,
   "id": "e24de27f",
   "metadata": {},
   "outputs": [
    {
     "name": "stdout",
     "output_type": "stream",
     "text": [
      "50\n"
     ]
    }
   ],
   "source": [
    "d = 40\n",
    "\n",
    "def barfoo():\n",
    "    global d\n",
    "    \n",
    "    d = d + 10\n",
    "    print(d)\n",
    "    \n",
    "barfoo()  "
   ]
  },
  {
   "cell_type": "markdown",
   "id": "66a4cc0e",
   "metadata": {},
   "source": [
    "```\n",
    "local variable 'e' referenced before assignment\n",
    "```"
   ]
  },
  {
   "cell_type": "code",
   "execution_count": 18,
   "id": "ed161cbd",
   "metadata": {},
   "outputs": [],
   "source": [
    "def outer():\n",
    "    e = 70\n",
    "    def inner():\n",
    "        e += 10\n",
    "        print(e)\n",
    "    return inner\n",
    "\n",
    "func = outer()\n",
    "func()"
   ]
  },
  {
   "cell_type": "markdown",
   "id": "dcc1ea9d",
   "metadata": {},
   "source": [
    "- nonlocal"
   ]
  },
  {
   "cell_type": "code",
   "execution_count": 2,
   "id": "139426c5",
   "metadata": {},
   "outputs": [
    {
     "name": "stdout",
     "output_type": "stream",
     "text": [
      "80\n"
     ]
    }
   ],
   "source": [
    "def outer_():\n",
    "    f = 70\n",
    "    def inner_():\n",
    "        nonlocal f\n",
    "        f += 10\n",
    "        print(f)\n",
    "    return inner_\n",
    "\n",
    "func_= outer_()\n",
    "func_()"
   ]
  },
  {
   "cell_type": "markdown",
   "id": "13eac792",
   "metadata": {},
   "source": [
    "- Increases in value with each call."
   ]
  },
  {
   "cell_type": "code",
   "execution_count": 3,
   "id": "35480457",
   "metadata": {},
   "outputs": [
    {
     "name": "stdout",
     "output_type": "stream",
     "text": [
      "90\n",
      "100\n",
      "110\n"
     ]
    }
   ],
   "source": [
    "func_()\n",
    "func_()\n",
    "func_()"
   ]
  },
  {
   "cell_type": "markdown",
   "id": "89844b37",
   "metadata": {},
   "source": [
    "- Print local variables and functions as a dictionary.\n",
    "  - Useful for debugging"
   ]
  },
  {
   "cell_type": "code",
   "execution_count": 4,
   "id": "99c44622",
   "metadata": {},
   "outputs": [
    {
     "name": "stdout",
     "output_type": "stream",
     "text": [
      "{'var': 'Hi', 'x': 10, 'printer': <function func.<locals>.printer at 0x00000222513759D0>}\n"
     ]
    }
   ],
   "source": [
    "def func(var):\n",
    "    x = 10\n",
    "    def printer():\n",
    "        print(\"Printer Function\")\n",
    "    print(locals())\n",
    "    \n",
    "func(\"Hi\")"
   ]
  },
  {
   "cell_type": "markdown",
   "id": "1c4e2c3a",
   "metadata": {},
   "source": [
    "- Print all of the global variables and functions as a dictionary."
   ]
  },
  {
   "cell_type": "code",
   "execution_count": 5,
   "id": "50eb1a93",
   "metadata": {},
   "outputs": [
    {
     "name": "stdout",
     "output_type": "stream",
     "text": [
      "{'__name__': '__main__', '__doc__': 'Automatically created module for IPython interactive environment', '__package__': None, '__loader__': None, '__spec__': None, '__builtin__': <module 'builtins' (built-in)>, '__builtins__': <module 'builtins' (built-in)>, '_ih': ['', 'd = 40\\n\\ndef barfoo():\\n    global d\\n    \\n    d = d + 10\\n    print(d)\\n    \\nbarfoo()  ', 'def outer_():\\n    f = 70\\n    def inner_():\\n        nonlocal f\\n        f += 10\\n        print(f)\\n    return inner_\\n\\nfunc_= outer_()\\nfunc_()', 'func_()\\nfunc_()\\nfunc_()', 'def func(var):\\n    x = 10\\n    def printer():\\n        print(\"Printer Function\")\\n    print(locals())\\n    \\nfunc(\"Hi\")', 'print(globals())'], '_oh': {}, '_dh': [WindowsPath('C:/Users/osy/Desktop/Github/Python_Toolbox/Variable_Scope')], 'In': ['', 'd = 40\\n\\ndef barfoo():\\n    global d\\n    \\n    d = d + 10\\n    print(d)\\n    \\nbarfoo()  ', 'def outer_():\\n    f = 70\\n    def inner_():\\n        nonlocal f\\n        f += 10\\n        print(f)\\n    return inner_\\n\\nfunc_= outer_()\\nfunc_()', 'func_()\\nfunc_()\\nfunc_()', 'def func(var):\\n    x = 10\\n    def printer():\\n        print(\"Printer Function\")\\n    print(locals())\\n    \\nfunc(\"Hi\")', 'print(globals())'], 'Out': {}, 'get_ipython': <bound method InteractiveShell.get_ipython of <ipykernel.zmqshell.ZMQInteractiveShell object at 0x0000022251309EB0>>, 'exit': <IPython.core.autocall.ZMQExitAutocall object at 0x0000022251317B80>, 'quit': <IPython.core.autocall.ZMQExitAutocall object at 0x0000022251317B80>, 'open': <function open at 0x000002224FACDEE0>, '_': '', '__': '', '___': '', '_i': 'def func(var):\\n    x = 10\\n    def printer():\\n        print(\"Printer Function\")\\n    print(locals())\\n    \\nfunc(\"Hi\")', '_ii': 'func_()\\nfunc_()\\nfunc_()', '_iii': 'def outer_():\\n    f = 70\\n    def inner_():\\n        nonlocal f\\n        f += 10\\n        print(f)\\n    return inner_\\n\\nfunc_= outer_()\\nfunc_()', '_i1': 'd = 40\\n\\ndef barfoo():\\n    global d\\n    \\n    d = d + 10\\n    print(d)\\n    \\nbarfoo()  ', 'd': 50, 'barfoo': <function barfoo at 0x0000022251332D30>, '_i2': 'def outer_():\\n    f = 70\\n    def inner_():\\n        nonlocal f\\n        f += 10\\n        print(f)\\n    return inner_\\n\\nfunc_= outer_()\\nfunc_()', 'outer_': <function outer_ at 0x0000022251375D30>, 'func_': <function outer_.<locals>.inner_ at 0x0000022251375EE0>, '_i3': 'func_()\\nfunc_()\\nfunc_()', '_i4': 'def func(var):\\n    x = 10\\n    def printer():\\n        print(\"Printer Function\")\\n    print(locals())\\n    \\nfunc(\"Hi\")', 'func': <function func at 0x0000022251375A60>, '_i5': 'print(globals())'}\n"
     ]
    }
   ],
   "source": [
    "print(globals())"
   ]
  },
  {
   "cell_type": "markdown",
   "id": "b5eefbf3",
   "metadata": {},
   "source": [
    "```\n",
    "test_variable = 10\n",
    "<-> globals()['test_variable'] = 100\n",
    "```"
   ]
  },
  {
   "cell_type": "markdown",
   "id": "ef8bd3cf",
   "metadata": {},
   "source": [
    "- We can create global variables dynamically."
   ]
  },
  {
   "cell_type": "code",
   "execution_count": 8,
   "id": "2c812d96",
   "metadata": {},
   "outputs": [
    {
     "name": "stdout",
     "output_type": "stream",
     "text": [
      "1\n"
     ]
    }
   ],
   "source": [
    "for i in range(10):\n",
    "    globals()['Test_{}'.format(i)] = i\n",
    "    \n",
    "print(Test_1)"
   ]
  }
 ],
 "metadata": {
  "kernelspec": {
   "display_name": "dacon",
   "language": "python",
   "name": "dacon"
  },
  "language_info": {
   "codemirror_mode": {
    "name": "ipython",
    "version": 3
   },
   "file_extension": ".py",
   "mimetype": "text/x-python",
   "name": "python",
   "nbconvert_exporter": "python",
   "pygments_lexer": "ipython3",
   "version": "3.8.17"
  }
 },
 "nbformat": 4,
 "nbformat_minor": 5
}
