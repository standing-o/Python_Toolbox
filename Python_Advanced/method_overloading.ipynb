{
 "cells": [
  {
   "cell_type": "markdown",
   "id": "1a94e508",
   "metadata": {},
   "source": [
    "# Method Overloading\n",
    "- **Python method overloading** allows a class to define multiple methods with the same name but with different parameters. \n",
    "  - This enables developers to redefine the behavior of a method based on the input arguments, making it flexible and adaptable to various situations.\n",
    "  \n",
    "- By using the same method name for similar operations, developers can create a predictable API. Users can infer the functionality of a method based on its name, which enhances usability and helps prevent confusion.\n",
    "\n",
    "- **Method overloading** can lead to less code duplication. Instead of writing multiple methods with different names for similar tasks, you can use one method name with varying parameters, reducing redundancy and streamlining code management.\n",
    "\n",
    "- When methods are overloaded, it enhances code readability. \n",
    "\n",
    "- Developers can easily understand the intent of the code, as similar operations are grouped under a common method name, making it more intuitive.\n",
    "\n",
    "- **Method overloading** allows for a more flexible way to invoke methods based on the parameters provided. \n",
    "  - This capability enables a single method to handle different types and numbers of arguments, simplifying function calls and reducing the need for multiple distinct methods."
   ]
  },
  {
   "cell_type": "markdown",
   "id": "7b1508df",
   "metadata": {},
   "source": [
    "- Using methods with the same name\n",
    "  - Dynamic type checking -> executed at runtime (type errors are discovered during execution)."
   ]
  },
  {
   "cell_type": "code",
   "execution_count": 1,
   "id": "a623ddc4",
   "metadata": {},
   "outputs": [],
   "source": [
    "class ClassA():\n",
    "    \n",
    "    def add(self, x, y):\n",
    "        return x + y\n",
    "\n",
    "    def add(self, x, y, z):\n",
    "        return x + y + z\n",
    "    \n",
    "    # Packing\n",
    "    # def add(self, *args):\n",
    "    #     return sum(args)\n",
    "\n",
    "a = ClassA()"
   ]
  },
  {
   "cell_type": "markdown",
   "id": "a25f34c3",
   "metadata": {},
   "source": [
    "- Python does not support method overloading\n",
    "  - **Multiple dispatch** allows you to define functions that can behave differently based on the types of the arguments passed to them."
   ]
  },
  {
   "cell_type": "code",
   "execution_count": 2,
   "id": "2eec9dfd",
   "metadata": {},
   "outputs": [
    {
     "ename": "TypeError",
     "evalue": "add() missing 1 required positional argument: 'z'",
     "output_type": "error",
     "traceback": [
      "\u001b[1;31m---------------------------------------------------------------------------\u001b[0m",
      "\u001b[1;31mTypeError\u001b[0m                                 Traceback (most recent call last)",
      "\u001b[1;32m~\\AppData\\Local\\Temp\\ipykernel_36428\\369765310.py\u001b[0m in \u001b[0;36m<module>\u001b[1;34m\u001b[0m\n\u001b[1;32m----> 1\u001b[1;33m \u001b[0ma\u001b[0m\u001b[1;33m.\u001b[0m\u001b[0madd\u001b[0m\u001b[1;33m(\u001b[0m\u001b[1;36m2\u001b[0m\u001b[1;33m,\u001b[0m\u001b[1;36m3\u001b[0m\u001b[1;33m)\u001b[0m\u001b[1;33m\u001b[0m\u001b[1;33m\u001b[0m\u001b[0m\n\u001b[0m",
      "\u001b[1;31mTypeError\u001b[0m: add() missing 1 required positional argument: 'z'"
     ]
    }
   ],
   "source": [
    "a.add(2,3)"
   ]
  },
  {
   "cell_type": "code",
   "execution_count": 3,
   "id": "50bd46ac",
   "metadata": {},
   "outputs": [
    {
     "name": "stdout",
     "output_type": "stream",
     "text": [
      "['__class__', '__delattr__', '__dict__', '__dir__', '__doc__', '__eq__', '__format__', '__ge__', '__getattribute__', '__gt__', '__hash__', '__init__', '__init_subclass__', '__le__', '__lt__', '__module__', '__ne__', '__new__', '__reduce__', '__reduce_ex__', '__repr__', '__setattr__', '__sizeof__', '__str__', '__subclasshook__', '__weakref__', 'add']\n"
     ]
    }
   ],
   "source": [
    "print(dir(a))"
   ]
  },
  {
   "cell_type": "markdown",
   "id": "66be7a1e",
   "metadata": {},
   "source": [
    "- Branching based on data types"
   ]
  },
  {
   "cell_type": "code",
   "execution_count": 4,
   "id": "ed2cd117",
   "metadata": {},
   "outputs": [],
   "source": [
    "class ClassB():\n",
    "    \n",
    "    def add(self, datatype, *args):\n",
    "        if datatype =='int': \n",
    "            return sum(args)\n",
    "\n",
    "        if datatype =='str': \n",
    "            return ''.join([x for x in args])\n",
    "\n",
    "b = ClassB()"
   ]
  },
  {
   "cell_type": "code",
   "execution_count": 5,
   "id": "c7b435f4",
   "metadata": {},
   "outputs": [
    {
     "name": "stdout",
     "output_type": "stream",
     "text": [
      "11\n",
      "Hi Geeks\n"
     ]
    }
   ],
   "source": [
    "print(b.add('int', 5, 6))\n",
    "print(b.add('str', 'Hi ', 'Geeks'))"
   ]
  },
  {
   "cell_type": "markdown",
   "id": "d18424a6",
   "metadata": {},
   "source": [
    "- Overloading with `multipledispatch`"
   ]
  },
  {
   "cell_type": "code",
   "execution_count": 6,
   "id": "e7a543c6",
   "metadata": {},
   "outputs": [],
   "source": [
    "from multipledispatch import dispatch\n",
    "\n",
    "class ClassC():\n",
    "    \n",
    "    @dispatch(int,int) \n",
    "    def product(x, y): \n",
    "        return x * y \n",
    "\n",
    "    @dispatch(int,int,int) \n",
    "    def product(x, y, z): \n",
    "        return x * y * z\n",
    "\n",
    "    @dispatch(float,float,float) \n",
    "    def product(x, y, z): \n",
    "        return x * y * z\n",
    "        \n",
    "c = ClassC()"
   ]
  },
  {
   "cell_type": "code",
   "execution_count": 7,
   "id": "941df988",
   "metadata": {},
   "outputs": [
    {
     "name": "stdout",
     "output_type": "stream",
     "text": [
      "30\n",
      "210\n",
      "210.0\n"
     ]
    }
   ],
   "source": [
    "print(c.product(5, 6))\n",
    "print(c.product(5, 6, 7))\n",
    "print(c.product(5.0, 6.0, 7.0))"
   ]
  }
 ],
 "metadata": {
  "kernelspec": {
   "display_name": "Python 3 (ipykernel)",
   "language": "python",
   "name": "python3"
  },
  "language_info": {
   "codemirror_mode": {
    "name": "ipython",
    "version": 3
   },
   "file_extension": ".py",
   "mimetype": "text/x-python",
   "name": "python",
   "nbconvert_exporter": "python",
   "pygments_lexer": "ipython3",
   "version": "3.9.13"
  }
 },
 "nbformat": 4,
 "nbformat_minor": 5
}
