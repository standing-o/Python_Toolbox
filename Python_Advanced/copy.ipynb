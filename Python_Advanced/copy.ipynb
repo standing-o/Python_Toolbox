{
 "cells": [
  {
   "cell_type": "markdown",
   "id": "ecd245f6",
   "metadata": {},
   "source": [
    "# Shallow Copy and Deep Copy\n",
    "- Immutable | int, str, float, bool, unicode...\n",
    "- Mmutable | list, set, dict"
   ]
  },
  {
   "cell_type": "markdown",
   "id": "47e7174b",
   "metadata": {},
   "source": [
    "### Copy\n",
    "- A simple assignment (e.g., new_list = original_list) doesn't create a new object but rather a new reference to the original. \n",
    "  - Changes to `new_list` affect `original_list`, as both references point to the same data."
   ]
  },
  {
   "cell_type": "code",
   "execution_count": 1,
   "id": "89beaf03",
   "metadata": {},
   "outputs": [
    {
     "name": "stdout",
     "output_type": "stream",
     "text": [
      "2289645492224\n",
      "2289645492224\n"
     ]
    }
   ],
   "source": [
    "# Call by value, Call by reference\n",
    "\n",
    "a_list = [1, 2, 3, [4, 5, 6], [7, 8, 9]]\n",
    "b_list = a_list\n",
    "\n",
    "print(id(a_list))\n",
    "print(id(b_list))"
   ]
  },
  {
   "cell_type": "code",
   "execution_count": 2,
   "id": "28cffd13",
   "metadata": {},
   "outputs": [
    {
     "name": "stdout",
     "output_type": "stream",
     "text": [
      "[1, 2, 100, [4, 5, 6], [7, 8, 9]]\n",
      "[1, 2, 100, [4, 5, 6], [7, 8, 9]]\n"
     ]
    }
   ],
   "source": [
    "b_list[2] = 100\n",
    "print(a_list)\n",
    "print(b_list)"
   ]
  },
  {
   "cell_type": "code",
   "execution_count": 3,
   "id": "efa89e17",
   "metadata": {},
   "outputs": [
    {
     "name": "stdout",
     "output_type": "stream",
     "text": [
      "[1, 2, 100, [4, 5, 100], [7, 8, 9]]\n",
      "[1, 2, 100, [4, 5, 100], [7, 8, 9]]\n"
     ]
    }
   ],
   "source": [
    "b_list[3][2] = 100\n",
    "print(a_list)\n",
    "print(b_list)"
   ]
  },
  {
   "cell_type": "markdown",
   "id": "fb4580fe",
   "metadata": {},
   "source": [
    "### Shallow Copy\n",
    "- A shallow copy creates a new object but **copies only the references** of the elements from the original object \n",
    "- For mutable types like lists, sets, and dictionaries, this means the top-level structure is duplicated, but nested objects are still referenced. Changes to nested objects will appear in both the original and the shallow copy."
   ]
  },
  {
   "cell_type": "code",
   "execution_count": 4,
   "id": "8366745e",
   "metadata": {},
   "outputs": [
    {
     "name": "stdout",
     "output_type": "stream",
     "text": [
      "2289645274816\n",
      "2289645670208\n"
     ]
    }
   ],
   "source": [
    "import copy\n",
    "\n",
    "c_list = [1, 2, 3, [4, 5, 6], [7, 8, 9]]\n",
    "d_list = copy.copy(c_list)\n",
    "\n",
    "print(id(c_list))\n",
    "print(id(d_list))"
   ]
  },
  {
   "cell_type": "code",
   "execution_count": 5,
   "id": "915f8044",
   "metadata": {},
   "outputs": [
    {
     "name": "stdout",
     "output_type": "stream",
     "text": [
      "[1, 2, 3, [4, 5, 6], [7, 8, 9]]\n",
      "[1, 100, 3, [4, 5, 6], [7, 8, 9]]\n"
     ]
    }
   ],
   "source": [
    "d_list[1] = 100\n",
    "\n",
    "print(c_list)\n",
    "print(d_list)"
   ]
  },
  {
   "cell_type": "markdown",
   "id": "dafd06a0",
   "metadata": {},
   "source": [
    "- Shallow copies of nested lists share references to the inner lists, not copies of them."
   ]
  },
  {
   "cell_type": "code",
   "execution_count": 6,
   "id": "2dcb63ec",
   "metadata": {},
   "outputs": [
    {
     "name": "stdout",
     "output_type": "stream",
     "text": [
      "[1, 2, 3, [4, 5, 6, 1000], [7, 10000, 9]]\n",
      "[1, 100, 3, [4, 5, 6, 1000], [7, 10000, 9]]\n"
     ]
    }
   ],
   "source": [
    "d_list[3].append(1000)\n",
    "d_list[4][1] = 10000\n",
    "\n",
    "print(c_list)\n",
    "print(d_list)"
   ]
  },
  {
   "cell_type": "markdown",
   "id": "1e1a40cb",
   "metadata": {},
   "source": [
    "### Deep Copy\n",
    "- A **deep copy** creates a new object and recursively copies all nested elements, so even references within references are duplicated. \n",
    "- For mutable objects, this ensures complete independence between the original and the copy, as all levels are fully copied. Changes to any part of the deep copy do not affect the original object."
   ]
  },
  {
   "cell_type": "code",
   "execution_count": 8,
   "id": "219365cc",
   "metadata": {},
   "outputs": [
    {
     "name": "stdout",
     "output_type": "stream",
     "text": [
      "2289645023296\n",
      "2289645787968\n"
     ]
    }
   ],
   "source": [
    "e_list = [1, 2, 3, [4, 5, 6], [7, 8, 9]]\n",
    "f_list = copy.deepcopy(e_list)\n",
    "\n",
    "print(id(e_list))\n",
    "print(id(f_list))"
   ]
  },
  {
   "cell_type": "code",
   "execution_count": 9,
   "id": "ba1efe94",
   "metadata": {},
   "outputs": [
    {
     "name": "stdout",
     "output_type": "stream",
     "text": [
      "[1, 2, 3, [4, 5, 6], [7, 8, 9]]\n",
      "[1, 2, 3, [4, 5, 6, 1000], [7, 10000, 9]]\n"
     ]
    }
   ],
   "source": [
    "f_list[3].append(1000)\n",
    "f_list[4][1] = 10000\n",
    "\n",
    "print(e_list)\n",
    "print(f_list)"
   ]
  }
 ],
 "metadata": {
  "kernelspec": {
   "display_name": "dacon",
   "language": "python",
   "name": "dacon"
  },
  "language_info": {
   "codemirror_mode": {
    "name": "ipython",
    "version": 3
   },
   "file_extension": ".py",
   "mimetype": "text/x-python",
   "name": "python",
   "nbconvert_exporter": "python",
   "pygments_lexer": "ipython3",
   "version": "3.8.17"
  }
 },
 "nbformat": 4,
 "nbformat_minor": 5
}
