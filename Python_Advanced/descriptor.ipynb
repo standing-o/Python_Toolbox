{
 "cells": [
  {
   "cell_type": "markdown",
   "id": "8cfc0082",
   "metadata": {},
   "source": [
    "# Descriptor\n",
    "- A Python descriptor allows an object to have different objects as attribute values, with the ability to pre-define operations such as read, write, and delete. \n",
    "- There are two types of descriptors: \n",
    "  - data descriptors (which include set and del methods) and non-data descriptors (which include the get method). \n",
    "- Descriptors provide the advantage of creating read-only objects and allow classes to be created in a specific, intended manner."
   ]
  },
  {
   "cell_type": "code",
   "execution_count": 16,
   "id": "91244ace",
   "metadata": {},
   "outputs": [],
   "source": [
    "class Descriptor_1(object):\n",
    "    def __init__(self, name='default'):\n",
    "        self.name = name\n",
    "        \n",
    "    def __get__(self, obj, objtype):\n",
    "        return f\"Get method called: {self}, {obj}, {objtype}\"\n",
    "    \n",
    "    def __set__(self, obj, name):\n",
    "        print(\"Set method called\")\n",
    "        if isinstance(name, str):\n",
    "            self.name = name\n",
    "        else:\n",
    "            raise TypeError(\"Name should be string.\")\n",
    "            \n",
    "    def __delete__(self, obj):\n",
    "        print(\"Delete method called\")\n",
    "        self.name = None\n",
    "        \n",
    "class Sample_1(object):\n",
    "    name = Descriptor_1()"
   ]
  },
  {
   "cell_type": "code",
   "execution_count": 17,
   "id": "ee5d4ed2",
   "metadata": {},
   "outputs": [
    {
     "name": "stdout",
     "output_type": "stream",
     "text": [
      "Set method called\n"
     ]
    }
   ],
   "source": [
    "s1 = Sample_1()\n",
    "\n",
    "s1.name = \"Test1\""
   ]
  },
  {
   "cell_type": "code",
   "execution_count": 18,
   "id": "49f2aca9",
   "metadata": {},
   "outputs": [
    {
     "name": "stdout",
     "output_type": "stream",
     "text": [
      "Set method called\n"
     ]
    },
    {
     "ename": "TypeError",
     "evalue": "Name should be string.",
     "output_type": "error",
     "traceback": [
      "\u001b[1;31m---------------------------------------------------------------------------\u001b[0m",
      "\u001b[1;31mTypeError\u001b[0m                                 Traceback (most recent call last)",
      "\u001b[1;32m~\\AppData\\Local\\Temp\\ipykernel_20408\\2548405504.py\u001b[0m in \u001b[0;36m<module>\u001b[1;34m\u001b[0m\n\u001b[1;32m----> 1\u001b[1;33m \u001b[0ms1\u001b[0m\u001b[1;33m.\u001b[0m\u001b[0mname\u001b[0m \u001b[1;33m=\u001b[0m \u001b[1;36m10\u001b[0m\u001b[1;33m\u001b[0m\u001b[1;33m\u001b[0m\u001b[0m\n\u001b[0m",
      "\u001b[1;32m~\\AppData\\Local\\Temp\\ipykernel_20408\\1241510678.py\u001b[0m in \u001b[0;36m__set__\u001b[1;34m(self, obj, name)\u001b[0m\n\u001b[0;32m     11\u001b[0m             \u001b[0mself\u001b[0m\u001b[1;33m.\u001b[0m\u001b[0mname\u001b[0m \u001b[1;33m=\u001b[0m \u001b[0mname\u001b[0m\u001b[1;33m\u001b[0m\u001b[1;33m\u001b[0m\u001b[0m\n\u001b[0;32m     12\u001b[0m         \u001b[1;32melse\u001b[0m\u001b[1;33m:\u001b[0m\u001b[1;33m\u001b[0m\u001b[1;33m\u001b[0m\u001b[0m\n\u001b[1;32m---> 13\u001b[1;33m             \u001b[1;32mraise\u001b[0m \u001b[0mTypeError\u001b[0m\u001b[1;33m(\u001b[0m\u001b[1;34m\"Name should be string.\"\u001b[0m\u001b[1;33m)\u001b[0m\u001b[1;33m\u001b[0m\u001b[1;33m\u001b[0m\u001b[0m\n\u001b[0m\u001b[0;32m     14\u001b[0m \u001b[1;33m\u001b[0m\u001b[0m\n\u001b[0;32m     15\u001b[0m     \u001b[1;32mdef\u001b[0m \u001b[0m__delete__\u001b[0m\u001b[1;33m(\u001b[0m\u001b[0mself\u001b[0m\u001b[1;33m,\u001b[0m \u001b[0mobj\u001b[0m\u001b[1;33m)\u001b[0m\u001b[1;33m:\u001b[0m\u001b[1;33m\u001b[0m\u001b[1;33m\u001b[0m\u001b[0m\n",
      "\u001b[1;31mTypeError\u001b[0m: Name should be string."
     ]
    }
   ],
   "source": [
    "s1.name = 10"
   ]
  },
  {
   "cell_type": "code",
   "execution_count": 19,
   "id": "016658ef",
   "metadata": {},
   "outputs": [
    {
     "data": {
      "text/plain": [
       "\"Get method called: <__main__.Descriptor_1 object at 0x000001E02DDDCA30>, <__main__.Sample_1 object at 0x000001E02E1D7370>, <class '__main__.Sample_1'>\""
      ]
     },
     "execution_count": 19,
     "metadata": {},
     "output_type": "execute_result"
    }
   ],
   "source": [
    "s1.name"
   ]
  },
  {
   "cell_type": "code",
   "execution_count": 20,
   "id": "8896e818",
   "metadata": {},
   "outputs": [
    {
     "name": "stdout",
     "output_type": "stream",
     "text": [
      "Delete method called\n"
     ]
    }
   ],
   "source": [
    "del s1.name"
   ]
  },
  {
   "cell_type": "code",
   "execution_count": 1,
   "id": "04cedaeb",
   "metadata": {},
   "outputs": [],
   "source": [
    "class Descriptor_2(object):\n",
    "    def __init__(self, value):\n",
    "        self._name = value\n",
    "        \n",
    "    def get_val(self):\n",
    "        return f\"Get method called: {self}, {self._name}\"\n",
    "    \n",
    "    def set_val(self, value):\n",
    "        print(\"Set method called\")\n",
    "        if isinstance(value, str):\n",
    "            self._name = value\n",
    "        else:\n",
    "            raise TypeError(\"Name should be string.\")\n",
    "            \n",
    "    def del_val(self):\n",
    "        print(\"Delete method called\")\n",
    "        self._name = None\n",
    "        \n",
    "    name = property(get_val, set_val, del_val, \"Property method example\")"
   ]
  },
  {
   "cell_type": "code",
   "execution_count": 2,
   "id": "a5cfbc5c",
   "metadata": {},
   "outputs": [
    {
     "data": {
      "text/plain": [
       "'Get method called: <__main__.Descriptor_2 object at 0x000001A26F381790>, Test2'"
      ]
     },
     "execution_count": 2,
     "metadata": {},
     "output_type": "execute_result"
    }
   ],
   "source": [
    "s2 = Descriptor_2(\"Test2\")\n",
    "\n",
    "s2.name"
   ]
  },
  {
   "cell_type": "code",
   "execution_count": 3,
   "id": "c336708d",
   "metadata": {},
   "outputs": [
    {
     "name": "stdout",
     "output_type": "stream",
     "text": [
      "Delete method called\n"
     ]
    }
   ],
   "source": [
    "del s2.name"
   ]
  },
  {
   "cell_type": "code",
   "execution_count": 4,
   "id": "b458caa7",
   "metadata": {},
   "outputs": [
    {
     "data": {
      "text/plain": [
       "'Property method example'"
      ]
     },
     "execution_count": 4,
     "metadata": {},
     "output_type": "execute_result"
    }
   ],
   "source": [
    "Descriptor_2.name.__doc__"
   ]
  },
  {
   "cell_type": "markdown",
   "id": "717500f0",
   "metadata": {},
   "source": [
    "### Low-level (Descriptor) vs High-level (Property)\n",
    "- **Low-level (Descriptor)**\n",
    "  - A descriptor is a more fundamental concept in Python, and it's any object that implements at least one of the following methods: `__get__`, `__set__`, and `__delete__`. \n",
    "  - Descriptors provide a lot of control over how attributes are accessed, modified, or deleted, but they can be more complex to implement.\n",
    "\n",
    "- **High-level (Property)**\n",
    "  - The property function is a high-level interface that makes use of descriptors behind the scenes. \n",
    "  - Instead of creating a custom descriptor class, you can simply use `@property` to define a method as a getter, and optionally use `@<property_name>.setter` and `@<property_name>.deleter` to define setter and deleter methods. \n",
    "  - It gives you a simpler way to manage attribute access without directly dealing with descriptor mechanics."
   ]
  },
  {
   "cell_type": "code",
   "execution_count": 5,
   "id": "42c506bf",
   "metadata": {},
   "outputs": [],
   "source": [
    "import os\n",
    "\n",
    "class FileCount:\n",
    "    def __get__(self, obj, objtype=None):\n",
    "        return len(os.listdir(obj.dirname))\n",
    "    \n",
    "class Path:\n",
    "    size = FileCount()\n",
    "    \n",
    "    def __init__(self, dirname):\n",
    "        self.dirname = dirname"
   ]
  },
  {
   "cell_type": "code",
   "execution_count": 6,
   "id": "c93b704a",
   "metadata": {},
   "outputs": [
    {
     "name": "stdout",
     "output_type": "stream",
     "text": [
      "11\n"
     ]
    }
   ],
   "source": [
    "s = Path(\"./\")\n",
    "print(s.size)"
   ]
  },
  {
   "cell_type": "code",
   "execution_count": 7,
   "id": "4c699ddf",
   "metadata": {},
   "outputs": [
    {
     "name": "stdout",
     "output_type": "stream",
     "text": [
      "9\n"
     ]
    }
   ],
   "source": [
    "g = Path(\"../\")\n",
    "print(g.size)"
   ]
  }
 ],
 "metadata": {
  "kernelspec": {
   "display_name": "Python 3 (ipykernel)",
   "language": "python",
   "name": "python3"
  },
  "language_info": {
   "codemirror_mode": {
    "name": "ipython",
    "version": 3
   },
   "file_extension": ".py",
   "mimetype": "text/x-python",
   "name": "python",
   "nbconvert_exporter": "python",
   "pygments_lexer": "ipython3",
   "version": "3.9.13"
  }
 },
 "nbformat": 4,
 "nbformat_minor": 5
}
