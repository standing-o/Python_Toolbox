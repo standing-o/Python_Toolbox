{
 "cells": [
  {
   "cell_type": "markdown",
   "id": "e64b55e7",
   "metadata": {},
   "source": [
    "# Context Manager\n",
    "- A context manager in Python is responsible for allocating and releasing resources precisely at the desired time. \n",
    "- It ensures that resources are set up when needed and then automatically cleaned up or released after use, even if an error occurs. "
   ]
  },
  {
   "cell_type": "markdown",
   "id": "a692b56f",
   "metadata": {},
   "source": [
    "### With"
   ]
  },
  {
   "cell_type": "code",
   "execution_count": 1,
   "id": "db7c13d3",
   "metadata": {},
   "outputs": [],
   "source": [
    "file = open(\"./testfile1.txt\", 'w')\n",
    "try:\n",
    "    file.write(\"Context manager test1\\nContextlib test1.\")\n",
    "finally:\n",
    "    file.close()"
   ]
  },
  {
   "cell_type": "code",
   "execution_count": 3,
   "id": "e24a4cc9",
   "metadata": {},
   "outputs": [
    {
     "name": "stdout",
     "output_type": "stream",
     "text": [
      "['.gitignore', '.ipynb_checkpoints', 'context_manager.ipynb', 'copy.ipynb', 'functions.ipynb', 'scope.ipynb', 'testfile1.txt']\n"
     ]
    }
   ],
   "source": [
    "import os\n",
    "print(os.listdir())"
   ]
  },
  {
   "cell_type": "code",
   "execution_count": 5,
   "id": "78c2dbf4",
   "metadata": {},
   "outputs": [],
   "source": [
    "with open(\"./testfile2.txt\", 'w') as f:\n",
    "    f.write(\"Context manager test1\\nContextlib test2.\")"
   ]
  },
  {
   "cell_type": "code",
   "execution_count": 6,
   "id": "cdb58b1e",
   "metadata": {},
   "outputs": [
    {
     "name": "stdout",
     "output_type": "stream",
     "text": [
      "['.gitignore', '.ipynb_checkpoints', 'context_manager.ipynb', 'copy.ipynb', 'functions.ipynb', 'scope.ipynb', 'testfile1.txt', 'testfile2.txt']\n"
     ]
    }
   ],
   "source": [
    "print(os.listdir())"
   ]
  },
  {
   "cell_type": "markdown",
   "id": "b0686c64",
   "metadata": {},
   "source": [
    "### `__enter__`, `__exit__`"
   ]
  },
  {
   "cell_type": "code",
   "execution_count": 9,
   "id": "54c83489",
   "metadata": {},
   "outputs": [],
   "source": [
    "# Context manager with exception handling\n",
    "\n",
    "class MyFileWriter():\n",
    "    def __init__(self, file_name, method):\n",
    "        print(\"MyFileWriter started : __init__\")\n",
    "        self.file_obj = open(file_name, method)\n",
    "        \n",
    "    def __enter__(self):\n",
    "        print(\"MyFileWriter started : __enter__\")\n",
    "        return self.file_obj\n",
    "    \n",
    "    def __exit__(self, exc_type, value, trace_back):\n",
    "        print(\"MyFileWriter started : __exit__\")\n",
    "        if exc_type:\n",
    "            print(\"Logging exxception {}\".format((exc_type, value, trace_back)))\n",
    "        self.file_obj.close()"
   ]
  },
  {
   "cell_type": "code",
   "execution_count": 10,
   "id": "fd6930fc",
   "metadata": {},
   "outputs": [
    {
     "name": "stdout",
     "output_type": "stream",
     "text": [
      "MyFileWriter started : __init__\n",
      "MyFileWriter started : __enter__\n",
      "MyFileWriter started : __exit__\n"
     ]
    }
   ],
   "source": [
    "# with -> init -> enter -> exit\n",
    "with MyFileWriter('./testfile3.txt', 'w') as f:\n",
    "    f.write(\"Context manager test1\\nContextlib test3.\")"
   ]
  },
  {
   "cell_type": "code",
   "execution_count": 12,
   "id": "adc6698b",
   "metadata": {},
   "outputs": [],
   "source": [
    "# Contextlib: Measure execution\n",
    "\n",
    "import time\n",
    "\n",
    "class ExecuteTimer(object):\n",
    "    def __init__(self, msg):\n",
    "        self._msg = msg\n",
    "        \n",
    "    def __enter__(self):\n",
    "        self._start = time.monotonic()\n",
    "        return self._start\n",
    "    \n",
    "    # exit from `with`\n",
    "    def __exit__(self, exc_type, exc_value, exc_traceback):\n",
    "        if exc_type:\n",
    "            print(\"Logging exception {}\".format((exc_type, exc_value, exc_traceback)))\n",
    "        else:\n",
    "            print(\"{} : {} s\".format(self._msg, time.monotonic() - self._start))\n",
    "        return True"
   ]
  },
  {
   "cell_type": "markdown",
   "id": "321699cf",
   "metadata": {},
   "source": [
    "- v: returned value of the `__enter__`"
   ]
  },
  {
   "cell_type": "code",
   "execution_count": 13,
   "id": "4473e2e5",
   "metadata": {},
   "outputs": [
    {
     "name": "stdout",
     "output_type": "stream",
     "text": [
      "Received start monotonic1 : 1307234.875\n",
      "Start! job : 0.030999999959021807 s\n"
     ]
    }
   ],
   "source": [
    "with ExecuteTimer(\"Start! job\") as v:\n",
    "    print(\"Received start monotonic1 : {}\".format(v))\n",
    "    # Execute job\n",
    "    for i in range(1000000):\n",
    "        pass"
   ]
  },
  {
   "cell_type": "code",
   "execution_count": 14,
   "id": "b4523c13",
   "metadata": {},
   "outputs": [
    {
     "name": "stdout",
     "output_type": "stream",
     "text": [
      "Received start monotonic1 : 1307309.031\n",
      "Logging exception (<class 'Exception'>, Exception('Raise! Exception!!'), <traceback object at 0x00000110B689C1C0>)\n"
     ]
    }
   ],
   "source": [
    "with ExecuteTimer(\"Start! job\") as v:\n",
    "    print(\"Received start monotonic1 : {}\".format(v))\n",
    "    # Execute job\n",
    "    for i in range(1000000):\n",
    "        pass\n",
    "    raise Exception(\"Raise! Exception!!\")"
   ]
  },
  {
   "cell_type": "markdown",
   "id": "c70f91ee",
   "metadata": {},
   "source": [
    "### `__enter__`, `__exit__`, `@contextlib.contextmanager`"
   ]
  },
  {
   "cell_type": "code",
   "execution_count": 16,
   "id": "76c9e1be",
   "metadata": {},
   "outputs": [],
   "source": [
    "import contextlib\n",
    "import time\n",
    "\n",
    "# Same with `ExecuteTimer` class\n",
    "@contextlib.contextmanager\n",
    "def my_file_writer(file_name, method):\n",
    "    f = open(file_name, method)\n",
    "    yield f  # __enter__\n",
    "    f.close()  # __exit__\n",
    "    \n",
    "with my_file_writer(\"testfile4.txt\", 'w') as f:\n",
    "    f.write(\"Context manager test4. \\nContextlib Test4.\")"
   ]
  },
  {
   "cell_type": "code",
   "execution_count": 17,
   "id": "5f69f2a6",
   "metadata": {},
   "outputs": [
    {
     "name": "stdout",
     "output_type": "stream",
     "text": [
      "['.gitignore', '.ipynb_checkpoints', 'context_manager.ipynb', 'copy.ipynb', 'functions.ipynb', 'scope.ipynb', 'testfile1.txt', 'testfile2.txt', 'testfile3.txt', 'testfile4.txt']\n"
     ]
    }
   ],
   "source": [
    "print(os.listdir())"
   ]
  },
  {
   "cell_type": "code",
   "execution_count": 20,
   "id": "31b8486e",
   "metadata": {},
   "outputs": [
    {
     "name": "stdout",
     "output_type": "stream",
     "text": [
      "Received start monotonic2 : 1307860.515\n",
      "Start job! : 0.0s\n"
     ]
    }
   ],
   "source": [
    "# User decorator\n",
    "\n",
    "@contextlib.contextmanager\n",
    "def ExecuteTimerDc(msg):\n",
    "    start = time.monotonic()\n",
    "    try:  # __enter__\n",
    "        yield start\n",
    "    except BaseException as e:\n",
    "        print(\"Logging exception: {}: {}\".format(msg, e))\n",
    "        raise\n",
    "    else:  # __exit__\n",
    "        print(\"{} : {}s\".format(msg, time.monotonic() - start))\n",
    "        \n",
    "\n",
    "with ExecuteTimerDc(\"Start job!\") as v:\n",
    "    print(\"Received start monotonic2 : {}\".format(v))\n",
    "    for i in range(100000):\n",
    "        pass\n",
    "#     raise ValueError(\"occured.\")"
   ]
  }
 ],
 "metadata": {
  "kernelspec": {
   "display_name": "dacon",
   "language": "python",
   "name": "dacon"
  },
  "language_info": {
   "codemirror_mode": {
    "name": "ipython",
    "version": 3
   },
   "file_extension": ".py",
   "mimetype": "text/x-python",
   "name": "python",
   "nbconvert_exporter": "python",
   "pygments_lexer": "ipython3",
   "version": "3.8.17"
  }
 },
 "nbformat": 4,
 "nbformat_minor": 5
}
