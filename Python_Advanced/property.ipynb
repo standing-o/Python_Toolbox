{
 "cells": [
  {
   "cell_type": "markdown",
   "id": "e4942cb2",
   "metadata": {},
   "source": [
    "# Property\n",
    "### Underscore\n",
    "- **Underscores** serve as a convention for access control rather than strict **access modifiers**. \n",
    "- A single underscore prefix `(_var)` indicates an internal attribute, which should be treated as non-public but is accessible if needed. \n",
    "- A double underscore prefix `(__var)` invokes name mangling, which makes it harder to accidentally access this variable from outside its class, but it’s still accessible if accessed intentionally."
   ]
  },
  {
   "cell_type": "markdown",
   "id": "dffe624e",
   "metadata": {},
   "source": [
    "- Unpacking"
   ]
  },
  {
   "cell_type": "code",
   "execution_count": 1,
   "id": "609570df",
   "metadata": {},
   "outputs": [
    {
     "name": "stdout",
     "output_type": "stream",
     "text": [
      "1 3\n"
     ]
    }
   ],
   "source": [
    "x, _, y = (1, 2, 3)\n",
    "print(x, y)"
   ]
  },
  {
   "cell_type": "code",
   "execution_count": 3,
   "id": "ff4349cc",
   "metadata": {},
   "outputs": [
    {
     "name": "stdout",
     "output_type": "stream",
     "text": [
      "1 5\n"
     ]
    }
   ],
   "source": [
    "a, *_, b = (1, 2, 3, 4, 5)\n",
    "print(a, b)"
   ]
  },
  {
   "cell_type": "code",
   "execution_count": 4,
   "id": "8ab05631",
   "metadata": {},
   "outputs": [
    {
     "ename": "ValueError",
     "evalue": "too many values to unpack (expected 3)",
     "output_type": "error",
     "traceback": [
      "\u001b[1;31m---------------------------------------------------------------------------\u001b[0m",
      "\u001b[1;31mValueError\u001b[0m                                Traceback (most recent call last)",
      "\u001b[1;32m~\\AppData\\Local\\Temp\\ipykernel_37316\\3920197345.py\u001b[0m in \u001b[0;36m<module>\u001b[1;34m\u001b[0m\n\u001b[1;32m----> 1\u001b[1;33m \u001b[0ma\u001b[0m\u001b[1;33m,\u001b[0m \u001b[0mi\u001b[0m\u001b[1;33m,\u001b[0m \u001b[0mb\u001b[0m \u001b[1;33m=\u001b[0m \u001b[1;33m(\u001b[0m\u001b[1;36m1\u001b[0m\u001b[1;33m,\u001b[0m \u001b[1;36m2\u001b[0m\u001b[1;33m,\u001b[0m \u001b[1;36m3\u001b[0m\u001b[1;33m,\u001b[0m \u001b[1;36m4\u001b[0m\u001b[1;33m,\u001b[0m \u001b[1;36m5\u001b[0m\u001b[1;33m)\u001b[0m\u001b[1;33m\u001b[0m\u001b[1;33m\u001b[0m\u001b[0m\n\u001b[0m\u001b[0;32m      2\u001b[0m \u001b[0mprint\u001b[0m\u001b[1;33m(\u001b[0m\u001b[0ma\u001b[0m\u001b[1;33m,\u001b[0m \u001b[0mb\u001b[0m\u001b[1;33m,\u001b[0m \u001b[0mi\u001b[0m\u001b[1;33m)\u001b[0m\u001b[1;33m\u001b[0m\u001b[1;33m\u001b[0m\u001b[0m\n",
      "\u001b[1;31mValueError\u001b[0m: too many values to unpack (expected 3)"
     ]
    }
   ],
   "source": [
    "a, i, b = (1, 2, 3, 4, 5)\n",
    "print(a, b, i)"
   ]
  },
  {
   "cell_type": "code",
   "execution_count": 5,
   "id": "fc9fe8aa",
   "metadata": {},
   "outputs": [
    {
     "name": "stdout",
     "output_type": "stream",
     "text": [
      "1 5 [2, 3, 4]\n"
     ]
    }
   ],
   "source": [
    "a, *i, b = (1, 2, 3, 4, 5)\n",
    "print(a, b, i)"
   ]
  },
  {
   "cell_type": "code",
   "execution_count": 6,
   "id": "e4841e1d",
   "metadata": {},
   "outputs": [],
   "source": [
    "for _ in range(10):\n",
    "    pass"
   ]
  },
  {
   "cell_type": "code",
   "execution_count": 7,
   "id": "0dc23dcd",
   "metadata": {},
   "outputs": [
    {
     "name": "stdout",
     "output_type": "stream",
     "text": [
      "0\n",
      "1\n",
      "2\n",
      "3\n",
      "4\n",
      "5\n",
      "6\n",
      "7\n",
      "8\n",
      "9\n"
     ]
    }
   ],
   "source": [
    "for _, val in enumerate(range(10)):\n",
    "    print(val)"
   ]
  },
  {
   "cell_type": "markdown",
   "id": "e0f35941",
   "metadata": {},
   "source": [
    "- **Access Modifier**\n",
    "  - `name` : public\n",
    "  - `_name` : protected\n",
    "  - `__name` : private\n",
    "  \n",
    "- **Naming Mangling**\n",
    "  - Name mangling is a mechanism that alters the name of a variable with a double underscore prefix `(__var)` to make it more unique and less accessible from outside the class. \n",
    "  - This is done by prefixing the variable name with `_ClassName`, where ClassName is the name of the class in which it is defined.\n",
    "    - For example, a variable `__my_var` in class MyClass will be internally transformed to `_MyClass__my_var`, making it harder to accidentally access from outside the class but still accessible if needed. \n",
    "    - This helps avoid name conflicts in subclasses, providing a form of limited privacy.\n",
    "    \n",
    "- **As a rule, variables prefixed with `__` should not be accessed from outside their defining class.**"
   ]
  },
  {
   "cell_type": "markdown",
   "id": "d5db2b21",
   "metadata": {},
   "source": [
    "- Not use property"
   ]
  },
  {
   "cell_type": "code",
   "execution_count": 10,
   "id": "2962632d",
   "metadata": {},
   "outputs": [
    {
     "name": "stdout",
     "output_type": "stream",
     "text": [
      "1\n",
      "0\n"
     ]
    }
   ],
   "source": [
    "class ClassA:\n",
    "    def __init__(self):\n",
    "        self.x = 0\n",
    "        self.__y = 0\n",
    "        self._z = 0\n",
    "        \n",
    "a = ClassA()\n",
    "a.x = 1\n",
    "\n",
    "print(a.x)\n",
    "print(a._z)"
   ]
  },
  {
   "cell_type": "code",
   "execution_count": 9,
   "id": "c93ee073",
   "metadata": {},
   "outputs": [
    {
     "ename": "AttributeError",
     "evalue": "'SampleA' object has no attribute '__y'",
     "output_type": "error",
     "traceback": [
      "\u001b[1;31m---------------------------------------------------------------------------\u001b[0m",
      "\u001b[1;31mAttributeError\u001b[0m                            Traceback (most recent call last)",
      "\u001b[1;32m~\\AppData\\Local\\Temp\\ipykernel_37316\\289092542.py\u001b[0m in \u001b[0;36m<module>\u001b[1;34m\u001b[0m\n\u001b[1;32m----> 1\u001b[1;33m \u001b[0mprint\u001b[0m\u001b[1;33m(\u001b[0m\u001b[0ma\u001b[0m\u001b[1;33m.\u001b[0m\u001b[0m__y\u001b[0m\u001b[1;33m)\u001b[0m\u001b[1;33m\u001b[0m\u001b[1;33m\u001b[0m\u001b[0m\n\u001b[0m",
      "\u001b[1;31mAttributeError\u001b[0m: 'SampleA' object has no attribute '__y'"
     ]
    }
   ],
   "source": [
    "print(a.__y)"
   ]
  },
  {
   "cell_type": "code",
   "execution_count": 11,
   "id": "3a73031b",
   "metadata": {},
   "outputs": [
    {
     "name": "stdout",
     "output_type": "stream",
     "text": [
      "['_SampleA__y', '__class__', '__delattr__', '__dict__', '__dir__', '__doc__', '__eq__', '__format__', '__ge__', '__getattribute__', '__gt__', '__hash__', '__init__', '__init_subclass__', '__le__', '__lt__', '__module__', '__ne__', '__new__', '__reduce__', '__reduce_ex__', '__repr__', '__setattr__', '__sizeof__', '__str__', '__subclasshook__', '__weakref__', '_z', 'x']\n"
     ]
    }
   ],
   "source": [
    "print(dir(a))"
   ]
  },
  {
   "cell_type": "markdown",
   "id": "f878c105",
   "metadata": {},
   "source": [
    "- There is no enforcement of this rule."
   ]
  },
  {
   "cell_type": "code",
   "execution_count": 12,
   "id": "7e57fb45",
   "metadata": {},
   "outputs": [
    {
     "name": "stdout",
     "output_type": "stream",
     "text": [
      "2\n"
     ]
    }
   ],
   "source": [
    "a._ClassA__y = 2\n",
    "print(a._ClassA__y)"
   ]
  },
  {
   "cell_type": "markdown",
   "id": "96d7ce4b",
   "metadata": {},
   "source": [
    "### Getter, Setter\n",
    "- Although double underscore-prefixed variables should not be accessed outside their class, there’s no strict enforcement of this rule. \n",
    "- To control access and modification of these variables, Python uses getters and setters, often implemented through the property decorator. \n",
    "- This allows the developer to define controlled access methods that retrieve or modify the value of an attribute, supporting encapsulation without directly exposing the variable."
   ]
  },
  {
   "cell_type": "code",
   "execution_count": 13,
   "id": "cabc676b",
   "metadata": {},
   "outputs": [],
   "source": [
    "class ClassB:\n",
    "    def __init__(self):\n",
    "        self.x = 0\n",
    "        self.__y = 0  # _SampleB__y\n",
    "        \n",
    "    def get_y(self):\n",
    "        return self.__y\n",
    "    \n",
    "    def set_y(self, value):\n",
    "        self.__y = value"
   ]
  },
  {
   "cell_type": "code",
   "execution_count": 14,
   "id": "3edd8d80",
   "metadata": {},
   "outputs": [],
   "source": [
    "b = ClassB()\n",
    "\n",
    "b.x = 1\n",
    "b.set_y(2)"
   ]
  },
  {
   "cell_type": "code",
   "execution_count": 15,
   "id": "70da4360",
   "metadata": {},
   "outputs": [
    {
     "name": "stdout",
     "output_type": "stream",
     "text": [
      "1\n",
      "2\n"
     ]
    }
   ],
   "source": [
    "print(b.x)\n",
    "print(b.get_y())"
   ]
  },
  {
   "cell_type": "code",
   "execution_count": 16,
   "id": "b3a85452",
   "metadata": {},
   "outputs": [
    {
     "name": "stdout",
     "output_type": "stream",
     "text": [
      "['_SampleB__y', '__class__', '__delattr__', '__dict__', '__dir__', '__doc__', '__eq__', '__format__', '__ge__', '__getattribute__', '__gt__', '__hash__', '__init__', '__init_subclass__', '__le__', '__lt__', '__module__', '__ne__', '__new__', '__reduce__', '__reduce_ex__', '__repr__', '__setattr__', '__sizeof__', '__str__', '__subclasshook__', '__weakref__', 'get_y', 'set_y', 'x']\n"
     ]
    }
   ],
   "source": [
    "print(dir(b))"
   ]
  },
  {
   "cell_type": "markdown",
   "id": "23ed056a",
   "metadata": {},
   "source": [
    "- Advantages of `@Property`\n",
    "  - It creates more pythonic code, enabling constraints on variables while providing the same effect as traditional getters and setters, enhancing code consistency. \n",
    "  - It facilitates encapsulation by making it easy to add validation and other checks. \n",
    "  - Properties allow alternative representations (exposing attributes while hiding internal details) and make it simpler to manage an attribute’s lifecycle and memory. \n",
    "  - Additionally, they improve interoperability with libraries designed to work seamlessly with getters and setters.\n",
    "    "
   ]
  },
  {
   "cell_type": "code",
   "execution_count": 23,
   "id": "63f13088",
   "metadata": {},
   "outputs": [],
   "source": [
    "class ClassC:\n",
    "    def __init__(self):\n",
    "        self.x = 0\n",
    "        self.__y = 0  # private\n",
    "        \n",
    "    @property\n",
    "    def y(self):\n",
    "        print(\"Called get method.\")\n",
    "        return self.__y\n",
    "    \n",
    "    @y.setter\n",
    "    def y(self, value):\n",
    "        print(\"Called set method.\")\n",
    "        self.__y = value\n",
    "        \n",
    "    @y.deleter\n",
    "    def y(self):\n",
    "        del self.__y"
   ]
  },
  {
   "cell_type": "code",
   "execution_count": 24,
   "id": "9215d484",
   "metadata": {},
   "outputs": [
    {
     "name": "stdout",
     "output_type": "stream",
     "text": [
      "Called set method.\n"
     ]
    }
   ],
   "source": [
    "c = ClassC()\n",
    "c.x = 1\n",
    "c.y = 2"
   ]
  },
  {
   "cell_type": "code",
   "execution_count": 25,
   "id": "64e9009e",
   "metadata": {},
   "outputs": [
    {
     "name": "stdout",
     "output_type": "stream",
     "text": [
      "1\n",
      "Called get method.\n",
      "2\n"
     ]
    }
   ],
   "source": [
    "print(c.x)\n",
    "print(c.y)"
   ]
  },
  {
   "cell_type": "code",
   "execution_count": 26,
   "id": "55db77c8",
   "metadata": {},
   "outputs": [
    {
     "name": "stdout",
     "output_type": "stream",
     "text": [
      "['_SampleC__y', '__class__', '__delattr__', '__dict__', '__dir__', '__doc__', '__eq__', '__format__', '__ge__', '__getattribute__', '__gt__', '__hash__', '__init__', '__init_subclass__', '__le__', '__lt__', '__module__', '__ne__', '__new__', '__reduce__', '__reduce_ex__', '__repr__', '__setattr__', '__sizeof__', '__str__', '__subclasshook__', '__weakref__', 'x', 'y']\n"
     ]
    }
   ],
   "source": [
    "print(dir(c))"
   ]
  },
  {
   "cell_type": "markdown",
   "id": "1d2d6ec0",
   "metadata": {},
   "source": [
    "- Add restrictions on property usage."
   ]
  },
  {
   "cell_type": "code",
   "execution_count": 27,
   "id": "c6d7b425",
   "metadata": {},
   "outputs": [],
   "source": [
    "class ClassD:\n",
    "    def __init__(self):\n",
    "        self.x = 0\n",
    "        self.__y = 0  # private\n",
    "        \n",
    "    @property\n",
    "    def y(self):\n",
    "        return self.__y\n",
    "    \n",
    "    @y.setter\n",
    "    def y(self, value):\n",
    "        if value < 0:\n",
    "            raise ValueError(\"Input value must be greater than 0.\")\n",
    "        self.__y = value\n",
    "        \n",
    "    @y.deleter\n",
    "    def y(self):\n",
    "        del self.__y"
   ]
  },
  {
   "cell_type": "code",
   "execution_count": 30,
   "id": "4c11becf",
   "metadata": {},
   "outputs": [],
   "source": [
    "d = ClassD()\n",
    "\n",
    "d.x = 1\n",
    "d.y = 10"
   ]
  },
  {
   "cell_type": "code",
   "execution_count": 31,
   "id": "14a80005",
   "metadata": {},
   "outputs": [
    {
     "ename": "ValueError",
     "evalue": "Input value must be greater than 0.",
     "output_type": "error",
     "traceback": [
      "\u001b[1;31m---------------------------------------------------------------------------\u001b[0m",
      "\u001b[1;31mValueError\u001b[0m                                Traceback (most recent call last)",
      "\u001b[1;32m~\\AppData\\Local\\Temp\\ipykernel_37316\\2645067046.py\u001b[0m in \u001b[0;36m<module>\u001b[1;34m\u001b[0m\n\u001b[1;32m----> 1\u001b[1;33m \u001b[0md\u001b[0m\u001b[1;33m.\u001b[0m\u001b[0my\u001b[0m \u001b[1;33m=\u001b[0m \u001b[1;33m-\u001b[0m\u001b[1;36m5\u001b[0m\u001b[1;33m\u001b[0m\u001b[1;33m\u001b[0m\u001b[0m\n\u001b[0m",
      "\u001b[1;32m~\\AppData\\Local\\Temp\\ipykernel_37316\\3629938946.py\u001b[0m in \u001b[0;36my\u001b[1;34m(self, value)\u001b[0m\n\u001b[0;32m     11\u001b[0m     \u001b[1;32mdef\u001b[0m \u001b[0my\u001b[0m\u001b[1;33m(\u001b[0m\u001b[0mself\u001b[0m\u001b[1;33m,\u001b[0m \u001b[0mvalue\u001b[0m\u001b[1;33m)\u001b[0m\u001b[1;33m:\u001b[0m\u001b[1;33m\u001b[0m\u001b[1;33m\u001b[0m\u001b[0m\n\u001b[0;32m     12\u001b[0m         \u001b[1;32mif\u001b[0m \u001b[0mvalue\u001b[0m \u001b[1;33m<\u001b[0m \u001b[1;36m0\u001b[0m\u001b[1;33m:\u001b[0m\u001b[1;33m\u001b[0m\u001b[1;33m\u001b[0m\u001b[0m\n\u001b[1;32m---> 13\u001b[1;33m             \u001b[1;32mraise\u001b[0m \u001b[0mValueError\u001b[0m\u001b[1;33m(\u001b[0m\u001b[1;34m\"Input value must be greater than 0.\"\u001b[0m\u001b[1;33m)\u001b[0m\u001b[1;33m\u001b[0m\u001b[1;33m\u001b[0m\u001b[0m\n\u001b[0m\u001b[0;32m     14\u001b[0m         \u001b[0mself\u001b[0m\u001b[1;33m.\u001b[0m\u001b[0m__y\u001b[0m \u001b[1;33m=\u001b[0m \u001b[0mvalue\u001b[0m\u001b[1;33m\u001b[0m\u001b[1;33m\u001b[0m\u001b[0m\n\u001b[0;32m     15\u001b[0m \u001b[1;33m\u001b[0m\u001b[0m\n",
      "\u001b[1;31mValueError\u001b[0m: Input value must be greater than 0."
     ]
    }
   ],
   "source": [
    "d.y = -5"
   ]
  }
 ],
 "metadata": {
  "kernelspec": {
   "display_name": "Python 3 (ipykernel)",
   "language": "python",
   "name": "python3"
  },
  "language_info": {
   "codemirror_mode": {
    "name": "ipython",
    "version": 3
   },
   "file_extension": ".py",
   "mimetype": "text/x-python",
   "name": "python",
   "nbconvert_exporter": "python",
   "pygments_lexer": "ipython3",
   "version": "3.9.13"
  }
 },
 "nbformat": 4,
 "nbformat_minor": 5
}
